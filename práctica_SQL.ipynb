{
  "nbformat": 4,
  "nbformat_minor": 0,
  "metadata": {
    "anaconda-cloud": {},
    "celltoolbar": "Slideshow",
    "kernelspec": {
      "display_name": "Python 3",
      "language": "python",
      "name": "python3"
    },
    "language_info": {
      "codemirror_mode": {
        "name": "ipython",
        "version": 3
      },
      "file_extension": ".py",
      "mimetype": "text/x-python",
      "name": "python",
      "nbconvert_exporter": "python",
      "pygments_lexer": "ipython3",
      "version": "3.7.6"
    },
    "colab": {
      "provenance": [],
      "include_colab_link": true
    }
  },
  "cells": [
    {
      "cell_type": "markdown",
      "metadata": {
        "id": "view-in-github",
        "colab_type": "text"
      },
      "source": [
        "<a href=\"https://colab.research.google.com/github/andrea0026/Ejercicio-SQL---Pandas/blob/main/pr%C3%A1ctica_SQL.ipynb\" target=\"_parent\"><img src=\"https://colab.research.google.com/assets/colab-badge.svg\" alt=\"Open In Colab\"/></a>"
      ]
    },
    {
      "cell_type": "markdown",
      "metadata": {
        "id": "38idX8Wk_xBV"
      },
      "source": [
        "<center>\n",
        "<img src=\"https://course_report_production.s3.amazonaws.com/rich/rich_files/rich_files/2470/s300/cd-logo-blue-600x600.png\" alt=\"Coding Dojo Logo\" class=\"center\" height=\"50\">\n",
        "\n",
        "# SQL Exercises\n",
        "\n",
        "*Make a copy of this notebook to edit!*\n",
        "```\n",
        "File > Save a copy in Drive\n",
        "```\n",
        "    \n",
        "</center>\n",
        "\n",
        "[SQLAlchemy](https://www.sqlalchemy.org/) is a wrapper for Python that allows us to write SQL queries in Python. We will use this to practice our SQL basics in Python.\n",
        "\n",
        "First, we need to connect to a database. We will just read a table into SQL for this step. We will be creating a [SQLite](https://sqlite.org/index.html) database and loading two tables ([table 1](https://drive.google.com/file/d/18MgOmIHHafoubgp2d_7GM6GWroxb0vPe/view?usp=sharing)  and [table 2](https://drive.google.com/file/d/1lqW6qfPXpDWsQ6yMYpZPX7brVif-v_Ra/view?usp=sharing)) into that database.\n",
        "\n",
        "The data (from [this source](https://data.world/sikkim/school)) describes details of various schools."
      ]
    },
    {
      "cell_type": "code",
      "metadata": {
        "id": "4whVGi2Wud1w"
      },
      "source": [
        "# imports\n",
        "import pandas as pd\n",
        "from sqlalchemy import create_engine"
      ],
      "execution_count": 1,
      "outputs": []
    },
    {
      "cell_type": "code",
      "metadata": {
        "id": "9p14osBhUD37",
        "colab": {
          "base_uri": "https://localhost:8080/"
        },
        "outputId": "6c63b4f2-f9bf-4fa3-d351-70e953f1769c"
      },
      "source": [
        "# mount data\n",
        "from google.colab import drive\n",
        "drive.mount('/content/drive')"
      ],
      "execution_count": 2,
      "outputs": [
        {
          "output_type": "stream",
          "name": "stdout",
          "text": [
            "Mounted at /content/drive\n"
          ]
        }
      ]
    },
    {
      "cell_type": "code",
      "metadata": {
        "id": "vttB7TWAUF9B",
        "colab": {
          "base_uri": "https://localhost:8080/",
          "height": 396
        },
        "outputId": "5e0089ce-274c-4f12-c9dc-5659c20d2dae"
      },
      "source": [
        "# load table 1\n",
        "school = pd.read_csv('/content/drive/MyDrive/Data_science/archivos/School_Details.csv')\n",
        "school.head(2)"
      ],
      "execution_count": 3,
      "outputs": [
        {
          "output_type": "execute_result",
          "data": {
            "text/plain": [
              "  DistrictName EstablishmentCode  \\\n",
              "0         East             S0169   \n",
              "1         East             S0099   \n",
              "\n",
              "                                   EstablishmentName   BRCName  \\\n",
              "0               BUDANG GOVERNMENT PRIMARY SCHOOL (E)  Duga Brc   \n",
              "1  CENTRAL PENDAM GOVERNMENT SENIOR SECONDARY SCHOOL  Duga Brc   \n",
              "\n",
              "                                             CRCName SchoolLevel  \\\n",
              "0  Central Pendam Government Senior Secondary School          PS   \n",
              "1  Central Pendam Government Senior Secondary School         SSS   \n",
              "\n",
              "  ManagementName LocalityHabitation SubdivisionName ConstituencyName  ...  \\\n",
              "0    State Govt.             BUDANG         Gangtok          Rhenock  ...   \n",
              "1    State Govt.     CENTRAL PENDAM         Gangtok      West Pandam  ...   \n",
              "\n",
              "  EstablishedDate DistrictHQDistance (in Km) CRCDistance (in Km)  \\\n",
              "0           28126                       58.0                 8.0   \n",
              "1           15342                       50.0                 0.0   \n",
              "\n",
              "  BACDistance (in Km) IsRecognized RecognizedBy ContactPersonName LowestClass  \\\n",
              "0                16.0   Recognized         HRDD               NaN     Class 1   \n",
              "1                 6.0   Recognized         HRDD               NaN     Class 1   \n",
              "\n",
              "  HighestClass BoardName  \n",
              "0      Class 5       NaN  \n",
              "1     Class 12  C.B.S.E.  \n",
              "\n",
              "[2 rows x 30 columns]"
            ],
            "text/html": [
              "\n",
              "  <div id=\"df-532cdc13-717f-433e-b043-90e5d78362ea\">\n",
              "    <div class=\"colab-df-container\">\n",
              "      <div>\n",
              "<style scoped>\n",
              "    .dataframe tbody tr th:only-of-type {\n",
              "        vertical-align: middle;\n",
              "    }\n",
              "\n",
              "    .dataframe tbody tr th {\n",
              "        vertical-align: top;\n",
              "    }\n",
              "\n",
              "    .dataframe thead th {\n",
              "        text-align: right;\n",
              "    }\n",
              "</style>\n",
              "<table border=\"1\" class=\"dataframe\">\n",
              "  <thead>\n",
              "    <tr style=\"text-align: right;\">\n",
              "      <th></th>\n",
              "      <th>DistrictName</th>\n",
              "      <th>EstablishmentCode</th>\n",
              "      <th>EstablishmentName</th>\n",
              "      <th>BRCName</th>\n",
              "      <th>CRCName</th>\n",
              "      <th>SchoolLevel</th>\n",
              "      <th>ManagementName</th>\n",
              "      <th>LocalityHabitation</th>\n",
              "      <th>SubdivisionName</th>\n",
              "      <th>ConstituencyName</th>\n",
              "      <th>...</th>\n",
              "      <th>EstablishedDate</th>\n",
              "      <th>DistrictHQDistance (in Km)</th>\n",
              "      <th>CRCDistance (in Km)</th>\n",
              "      <th>BACDistance (in Km)</th>\n",
              "      <th>IsRecognized</th>\n",
              "      <th>RecognizedBy</th>\n",
              "      <th>ContactPersonName</th>\n",
              "      <th>LowestClass</th>\n",
              "      <th>HighestClass</th>\n",
              "      <th>BoardName</th>\n",
              "    </tr>\n",
              "  </thead>\n",
              "  <tbody>\n",
              "    <tr>\n",
              "      <th>0</th>\n",
              "      <td>East</td>\n",
              "      <td>S0169</td>\n",
              "      <td>BUDANG GOVERNMENT PRIMARY SCHOOL (E)</td>\n",
              "      <td>Duga Brc</td>\n",
              "      <td>Central Pendam Government Senior Secondary School</td>\n",
              "      <td>PS</td>\n",
              "      <td>State Govt.</td>\n",
              "      <td>BUDANG</td>\n",
              "      <td>Gangtok</td>\n",
              "      <td>Rhenock</td>\n",
              "      <td>...</td>\n",
              "      <td>28126</td>\n",
              "      <td>58.0</td>\n",
              "      <td>8.0</td>\n",
              "      <td>16.0</td>\n",
              "      <td>Recognized</td>\n",
              "      <td>HRDD</td>\n",
              "      <td>NaN</td>\n",
              "      <td>Class 1</td>\n",
              "      <td>Class 5</td>\n",
              "      <td>NaN</td>\n",
              "    </tr>\n",
              "    <tr>\n",
              "      <th>1</th>\n",
              "      <td>East</td>\n",
              "      <td>S0099</td>\n",
              "      <td>CENTRAL PENDAM GOVERNMENT SENIOR SECONDARY SCHOOL</td>\n",
              "      <td>Duga Brc</td>\n",
              "      <td>Central Pendam Government Senior Secondary School</td>\n",
              "      <td>SSS</td>\n",
              "      <td>State Govt.</td>\n",
              "      <td>CENTRAL PENDAM</td>\n",
              "      <td>Gangtok</td>\n",
              "      <td>West Pandam</td>\n",
              "      <td>...</td>\n",
              "      <td>15342</td>\n",
              "      <td>50.0</td>\n",
              "      <td>0.0</td>\n",
              "      <td>6.0</td>\n",
              "      <td>Recognized</td>\n",
              "      <td>HRDD</td>\n",
              "      <td>NaN</td>\n",
              "      <td>Class 1</td>\n",
              "      <td>Class 12</td>\n",
              "      <td>C.B.S.E.</td>\n",
              "    </tr>\n",
              "  </tbody>\n",
              "</table>\n",
              "<p>2 rows × 30 columns</p>\n",
              "</div>\n",
              "      <button class=\"colab-df-convert\" onclick=\"convertToInteractive('df-532cdc13-717f-433e-b043-90e5d78362ea')\"\n",
              "              title=\"Convert this dataframe to an interactive table.\"\n",
              "              style=\"display:none;\">\n",
              "        \n",
              "  <svg xmlns=\"http://www.w3.org/2000/svg\" height=\"24px\"viewBox=\"0 0 24 24\"\n",
              "       width=\"24px\">\n",
              "    <path d=\"M0 0h24v24H0V0z\" fill=\"none\"/>\n",
              "    <path d=\"M18.56 5.44l.94 2.06.94-2.06 2.06-.94-2.06-.94-.94-2.06-.94 2.06-2.06.94zm-11 1L8.5 8.5l.94-2.06 2.06-.94-2.06-.94L8.5 2.5l-.94 2.06-2.06.94zm10 10l.94 2.06.94-2.06 2.06-.94-2.06-.94-.94-2.06-.94 2.06-2.06.94z\"/><path d=\"M17.41 7.96l-1.37-1.37c-.4-.4-.92-.59-1.43-.59-.52 0-1.04.2-1.43.59L10.3 9.45l-7.72 7.72c-.78.78-.78 2.05 0 2.83L4 21.41c.39.39.9.59 1.41.59.51 0 1.02-.2 1.41-.59l7.78-7.78 2.81-2.81c.8-.78.8-2.07 0-2.86zM5.41 20L4 18.59l7.72-7.72 1.47 1.35L5.41 20z\"/>\n",
              "  </svg>\n",
              "      </button>\n",
              "      \n",
              "  <style>\n",
              "    .colab-df-container {\n",
              "      display:flex;\n",
              "      flex-wrap:wrap;\n",
              "      gap: 12px;\n",
              "    }\n",
              "\n",
              "    .colab-df-convert {\n",
              "      background-color: #E8F0FE;\n",
              "      border: none;\n",
              "      border-radius: 50%;\n",
              "      cursor: pointer;\n",
              "      display: none;\n",
              "      fill: #1967D2;\n",
              "      height: 32px;\n",
              "      padding: 0 0 0 0;\n",
              "      width: 32px;\n",
              "    }\n",
              "\n",
              "    .colab-df-convert:hover {\n",
              "      background-color: #E2EBFA;\n",
              "      box-shadow: 0px 1px 2px rgba(60, 64, 67, 0.3), 0px 1px 3px 1px rgba(60, 64, 67, 0.15);\n",
              "      fill: #174EA6;\n",
              "    }\n",
              "\n",
              "    [theme=dark] .colab-df-convert {\n",
              "      background-color: #3B4455;\n",
              "      fill: #D2E3FC;\n",
              "    }\n",
              "\n",
              "    [theme=dark] .colab-df-convert:hover {\n",
              "      background-color: #434B5C;\n",
              "      box-shadow: 0px 1px 3px 1px rgba(0, 0, 0, 0.15);\n",
              "      filter: drop-shadow(0px 1px 2px rgba(0, 0, 0, 0.3));\n",
              "      fill: #FFFFFF;\n",
              "    }\n",
              "  </style>\n",
              "\n",
              "      <script>\n",
              "        const buttonEl =\n",
              "          document.querySelector('#df-532cdc13-717f-433e-b043-90e5d78362ea button.colab-df-convert');\n",
              "        buttonEl.style.display =\n",
              "          google.colab.kernel.accessAllowed ? 'block' : 'none';\n",
              "\n",
              "        async function convertToInteractive(key) {\n",
              "          const element = document.querySelector('#df-532cdc13-717f-433e-b043-90e5d78362ea');\n",
              "          const dataTable =\n",
              "            await google.colab.kernel.invokeFunction('convertToInteractive',\n",
              "                                                     [key], {});\n",
              "          if (!dataTable) return;\n",
              "\n",
              "          const docLinkHtml = 'Like what you see? Visit the ' +\n",
              "            '<a target=\"_blank\" href=https://colab.research.google.com/notebooks/data_table.ipynb>data table notebook</a>'\n",
              "            + ' to learn more about interactive tables.';\n",
              "          element.innerHTML = '';\n",
              "          dataTable['output_type'] = 'display_data';\n",
              "          await google.colab.output.renderOutput(dataTable, element);\n",
              "          const docLink = document.createElement('div');\n",
              "          docLink.innerHTML = docLinkHtml;\n",
              "          element.appendChild(docLink);\n",
              "        }\n",
              "      </script>\n",
              "    </div>\n",
              "  </div>\n",
              "  "
            ]
          },
          "metadata": {},
          "execution_count": 3
        }
      ]
    },
    {
      "cell_type": "code",
      "metadata": {
        "id": "aGVow52u6Fh9",
        "colab": {
          "base_uri": "https://localhost:8080/",
          "height": 263
        },
        "outputId": "b16efb33-7b34-4978-80a1-197557e6aa13"
      },
      "source": [
        "# load table 2\n",
        "facility = pd.read_csv('/content/drive/MyDrive/Data_science/archivos/School_Facility_Details.csv')\n",
        "facility.head(2)"
      ],
      "execution_count": 4,
      "outputs": [
        {
          "output_type": "execute_result",
          "data": {
            "text/plain": [
              "  EstablishmentCode                                  EstablishmentName  \\\n",
              "0             S1034  (I.E.C) INDIAN EVANGALISTIC CRUSADE MISSION PR...   \n",
              "1             S0516                10TH MILE GOVERNMENT PRIMARY SCHOOL   \n",
              "\n",
              "  IsLibraryAvailable  AvailableBooksCount IsFireExtgAvailable  \\\n",
              "0      Not Available                    0           Available   \n",
              "1      Not Available                    0       Not Available   \n",
              "\n",
              "   ExtinguisherCount HOIRoomAvailable IsStaffRoomAvailable  NoofStaffRoom  \\\n",
              "0                  1        Available        Not Available              0   \n",
              "1                  0        Available            Available              1   \n",
              "\n",
              "  IsLockerForStaffAvailable IsSportsStoreRoomAvailable  \n",
              "0             Not Available              Not Available  \n",
              "1             Not Available              Not Available  "
            ],
            "text/html": [
              "\n",
              "  <div id=\"df-b63e1ae6-2ab0-4927-a9cb-2e810d07032e\">\n",
              "    <div class=\"colab-df-container\">\n",
              "      <div>\n",
              "<style scoped>\n",
              "    .dataframe tbody tr th:only-of-type {\n",
              "        vertical-align: middle;\n",
              "    }\n",
              "\n",
              "    .dataframe tbody tr th {\n",
              "        vertical-align: top;\n",
              "    }\n",
              "\n",
              "    .dataframe thead th {\n",
              "        text-align: right;\n",
              "    }\n",
              "</style>\n",
              "<table border=\"1\" class=\"dataframe\">\n",
              "  <thead>\n",
              "    <tr style=\"text-align: right;\">\n",
              "      <th></th>\n",
              "      <th>EstablishmentCode</th>\n",
              "      <th>EstablishmentName</th>\n",
              "      <th>IsLibraryAvailable</th>\n",
              "      <th>AvailableBooksCount</th>\n",
              "      <th>IsFireExtgAvailable</th>\n",
              "      <th>ExtinguisherCount</th>\n",
              "      <th>HOIRoomAvailable</th>\n",
              "      <th>IsStaffRoomAvailable</th>\n",
              "      <th>NoofStaffRoom</th>\n",
              "      <th>IsLockerForStaffAvailable</th>\n",
              "      <th>IsSportsStoreRoomAvailable</th>\n",
              "    </tr>\n",
              "  </thead>\n",
              "  <tbody>\n",
              "    <tr>\n",
              "      <th>0</th>\n",
              "      <td>S1034</td>\n",
              "      <td>(I.E.C) INDIAN EVANGALISTIC CRUSADE MISSION PR...</td>\n",
              "      <td>Not Available</td>\n",
              "      <td>0</td>\n",
              "      <td>Available</td>\n",
              "      <td>1</td>\n",
              "      <td>Available</td>\n",
              "      <td>Not Available</td>\n",
              "      <td>0</td>\n",
              "      <td>Not Available</td>\n",
              "      <td>Not Available</td>\n",
              "    </tr>\n",
              "    <tr>\n",
              "      <th>1</th>\n",
              "      <td>S0516</td>\n",
              "      <td>10TH MILE GOVERNMENT PRIMARY SCHOOL</td>\n",
              "      <td>Not Available</td>\n",
              "      <td>0</td>\n",
              "      <td>Not Available</td>\n",
              "      <td>0</td>\n",
              "      <td>Available</td>\n",
              "      <td>Available</td>\n",
              "      <td>1</td>\n",
              "      <td>Not Available</td>\n",
              "      <td>Not Available</td>\n",
              "    </tr>\n",
              "  </tbody>\n",
              "</table>\n",
              "</div>\n",
              "      <button class=\"colab-df-convert\" onclick=\"convertToInteractive('df-b63e1ae6-2ab0-4927-a9cb-2e810d07032e')\"\n",
              "              title=\"Convert this dataframe to an interactive table.\"\n",
              "              style=\"display:none;\">\n",
              "        \n",
              "  <svg xmlns=\"http://www.w3.org/2000/svg\" height=\"24px\"viewBox=\"0 0 24 24\"\n",
              "       width=\"24px\">\n",
              "    <path d=\"M0 0h24v24H0V0z\" fill=\"none\"/>\n",
              "    <path d=\"M18.56 5.44l.94 2.06.94-2.06 2.06-.94-2.06-.94-.94-2.06-.94 2.06-2.06.94zm-11 1L8.5 8.5l.94-2.06 2.06-.94-2.06-.94L8.5 2.5l-.94 2.06-2.06.94zm10 10l.94 2.06.94-2.06 2.06-.94-2.06-.94-.94-2.06-.94 2.06-2.06.94z\"/><path d=\"M17.41 7.96l-1.37-1.37c-.4-.4-.92-.59-1.43-.59-.52 0-1.04.2-1.43.59L10.3 9.45l-7.72 7.72c-.78.78-.78 2.05 0 2.83L4 21.41c.39.39.9.59 1.41.59.51 0 1.02-.2 1.41-.59l7.78-7.78 2.81-2.81c.8-.78.8-2.07 0-2.86zM5.41 20L4 18.59l7.72-7.72 1.47 1.35L5.41 20z\"/>\n",
              "  </svg>\n",
              "      </button>\n",
              "      \n",
              "  <style>\n",
              "    .colab-df-container {\n",
              "      display:flex;\n",
              "      flex-wrap:wrap;\n",
              "      gap: 12px;\n",
              "    }\n",
              "\n",
              "    .colab-df-convert {\n",
              "      background-color: #E8F0FE;\n",
              "      border: none;\n",
              "      border-radius: 50%;\n",
              "      cursor: pointer;\n",
              "      display: none;\n",
              "      fill: #1967D2;\n",
              "      height: 32px;\n",
              "      padding: 0 0 0 0;\n",
              "      width: 32px;\n",
              "    }\n",
              "\n",
              "    .colab-df-convert:hover {\n",
              "      background-color: #E2EBFA;\n",
              "      box-shadow: 0px 1px 2px rgba(60, 64, 67, 0.3), 0px 1px 3px 1px rgba(60, 64, 67, 0.15);\n",
              "      fill: #174EA6;\n",
              "    }\n",
              "\n",
              "    [theme=dark] .colab-df-convert {\n",
              "      background-color: #3B4455;\n",
              "      fill: #D2E3FC;\n",
              "    }\n",
              "\n",
              "    [theme=dark] .colab-df-convert:hover {\n",
              "      background-color: #434B5C;\n",
              "      box-shadow: 0px 1px 3px 1px rgba(0, 0, 0, 0.15);\n",
              "      filter: drop-shadow(0px 1px 2px rgba(0, 0, 0, 0.3));\n",
              "      fill: #FFFFFF;\n",
              "    }\n",
              "  </style>\n",
              "\n",
              "      <script>\n",
              "        const buttonEl =\n",
              "          document.querySelector('#df-b63e1ae6-2ab0-4927-a9cb-2e810d07032e button.colab-df-convert');\n",
              "        buttonEl.style.display =\n",
              "          google.colab.kernel.accessAllowed ? 'block' : 'none';\n",
              "\n",
              "        async function convertToInteractive(key) {\n",
              "          const element = document.querySelector('#df-b63e1ae6-2ab0-4927-a9cb-2e810d07032e');\n",
              "          const dataTable =\n",
              "            await google.colab.kernel.invokeFunction('convertToInteractive',\n",
              "                                                     [key], {});\n",
              "          if (!dataTable) return;\n",
              "\n",
              "          const docLinkHtml = 'Like what you see? Visit the ' +\n",
              "            '<a target=\"_blank\" href=https://colab.research.google.com/notebooks/data_table.ipynb>data table notebook</a>'\n",
              "            + ' to learn more about interactive tables.';\n",
              "          element.innerHTML = '';\n",
              "          dataTable['output_type'] = 'display_data';\n",
              "          await google.colab.output.renderOutput(dataTable, element);\n",
              "          const docLink = document.createElement('div');\n",
              "          docLink.innerHTML = docLinkHtml;\n",
              "          element.appendChild(docLink);\n",
              "        }\n",
              "      </script>\n",
              "    </div>\n",
              "  </div>\n",
              "  "
            ]
          },
          "metadata": {},
          "execution_count": 4
        }
      ]
    },
    {
      "cell_type": "code",
      "metadata": {
        "id": "PQGdfEEEudzI"
      },
      "source": [
        "# create sqlite engine\n",
        "engine = create_engine('sqlite:///school.db', echo=True)\n",
        "# create connection to engine\n",
        "conn = engine.connect()"
      ],
      "execution_count": 5,
      "outputs": []
    },
    {
      "cell_type": "code",
      "metadata": {
        "id": "OudkpXECuz2n",
        "colab": {
          "base_uri": "https://localhost:8080/"
        },
        "outputId": "8cc77cb2-ba55-441d-d0ab-a1db170a2978"
      },
      "source": [
        "# add the dataframe as a table in sqlite\n",
        "sqlite_table = \"school_details\"\n",
        "school.to_sql(sqlite_table, conn, if_exists='fail')\n",
        "\n",
        "sqlite_table2 = \"school_facility_details\"\n",
        "facility.to_sql(sqlite_table2, conn, if_exists='fail')"
      ],
      "execution_count": 6,
      "outputs": [
        {
          "output_type": "stream",
          "name": "stdout",
          "text": [
            "2022-12-19 19:57:08,742 INFO sqlalchemy.engine.Engine PRAGMA main.table_info(\"school_details\")\n"
          ]
        },
        {
          "output_type": "stream",
          "name": "stderr",
          "text": [
            "INFO:sqlalchemy.engine.Engine:PRAGMA main.table_info(\"school_details\")\n"
          ]
        },
        {
          "output_type": "stream",
          "name": "stdout",
          "text": [
            "2022-12-19 19:57:08,748 INFO sqlalchemy.engine.Engine [raw sql] ()\n"
          ]
        },
        {
          "output_type": "stream",
          "name": "stderr",
          "text": [
            "INFO:sqlalchemy.engine.Engine:[raw sql] ()\n"
          ]
        },
        {
          "output_type": "stream",
          "name": "stdout",
          "text": [
            "2022-12-19 19:57:08,752 INFO sqlalchemy.engine.Engine PRAGMA temp.table_info(\"school_details\")\n"
          ]
        },
        {
          "output_type": "stream",
          "name": "stderr",
          "text": [
            "INFO:sqlalchemy.engine.Engine:PRAGMA temp.table_info(\"school_details\")\n"
          ]
        },
        {
          "output_type": "stream",
          "name": "stdout",
          "text": [
            "2022-12-19 19:57:08,755 INFO sqlalchemy.engine.Engine [raw sql] ()\n"
          ]
        },
        {
          "output_type": "stream",
          "name": "stderr",
          "text": [
            "INFO:sqlalchemy.engine.Engine:[raw sql] ()\n"
          ]
        },
        {
          "output_type": "stream",
          "name": "stdout",
          "text": [
            "2022-12-19 19:57:08,762 INFO sqlalchemy.engine.Engine \n",
            "CREATE TABLE school_details (\n",
            "\t\"index\" BIGINT, \n",
            "\t\"DistrictName\" TEXT, \n",
            "\t\"EstablishmentCode\" TEXT, \n",
            "\t\"EstablishmentName\" TEXT, \n",
            "\t\"BRCName\" TEXT, \n",
            "\t\"CRCName\" TEXT, \n",
            "\t\"SchoolLevel\" TEXT, \n",
            "\t\"ManagementName\" TEXT, \n",
            "\t\"LocalityHabitation\" TEXT, \n",
            "\t\"SubdivisionName\" TEXT, \n",
            "\t\"ConstituencyName\" TEXT, \n",
            "\t\"RevenueBlockName\" TEXT, \n",
            "\t\"CivicBodyName\" TEXT, \n",
            "\t\"WardName\" TEXT, \n",
            "\t\"PostOfficeName\" TEXT, \n",
            "\t\"PhoneNo\" TEXT, \n",
            "\t\"FaxNo\" TEXT, \n",
            "\t\"EmailID\" TEXT, \n",
            "\t\"Website\" TEXT, \n",
            "\t\"LocatedInRuralOrUrban\" TEXT, \n",
            "\t\"DiseCode\" TEXT, \n",
            "\t\"EstablishedDate\" TEXT, \n",
            "\t\"DistrictHQDistance (in Km)\" FLOAT, \n",
            "\t\"CRCDistance (in Km)\" FLOAT, \n",
            "\t\"BACDistance (in Km)\" FLOAT, \n",
            "\t\"IsRecognized\" TEXT, \n",
            "\t\"RecognizedBy\" TEXT, \n",
            "\t\"ContactPersonName\" FLOAT, \n",
            "\t\"LowestClass\" TEXT, \n",
            "\t\"HighestClass\" TEXT, \n",
            "\t\"BoardName\" TEXT\n",
            ")\n",
            "\n",
            "\n"
          ]
        },
        {
          "output_type": "stream",
          "name": "stderr",
          "text": [
            "INFO:sqlalchemy.engine.Engine:\n",
            "CREATE TABLE school_details (\n",
            "\t\"index\" BIGINT, \n",
            "\t\"DistrictName\" TEXT, \n",
            "\t\"EstablishmentCode\" TEXT, \n",
            "\t\"EstablishmentName\" TEXT, \n",
            "\t\"BRCName\" TEXT, \n",
            "\t\"CRCName\" TEXT, \n",
            "\t\"SchoolLevel\" TEXT, \n",
            "\t\"ManagementName\" TEXT, \n",
            "\t\"LocalityHabitation\" TEXT, \n",
            "\t\"SubdivisionName\" TEXT, \n",
            "\t\"ConstituencyName\" TEXT, \n",
            "\t\"RevenueBlockName\" TEXT, \n",
            "\t\"CivicBodyName\" TEXT, \n",
            "\t\"WardName\" TEXT, \n",
            "\t\"PostOfficeName\" TEXT, \n",
            "\t\"PhoneNo\" TEXT, \n",
            "\t\"FaxNo\" TEXT, \n",
            "\t\"EmailID\" TEXT, \n",
            "\t\"Website\" TEXT, \n",
            "\t\"LocatedInRuralOrUrban\" TEXT, \n",
            "\t\"DiseCode\" TEXT, \n",
            "\t\"EstablishedDate\" TEXT, \n",
            "\t\"DistrictHQDistance (in Km)\" FLOAT, \n",
            "\t\"CRCDistance (in Km)\" FLOAT, \n",
            "\t\"BACDistance (in Km)\" FLOAT, \n",
            "\t\"IsRecognized\" TEXT, \n",
            "\t\"RecognizedBy\" TEXT, \n",
            "\t\"ContactPersonName\" FLOAT, \n",
            "\t\"LowestClass\" TEXT, \n",
            "\t\"HighestClass\" TEXT, \n",
            "\t\"BoardName\" TEXT\n",
            ")\n",
            "\n",
            "\n"
          ]
        },
        {
          "output_type": "stream",
          "name": "stdout",
          "text": [
            "2022-12-19 19:57:08,767 INFO sqlalchemy.engine.Engine [no key 0.00542s] ()\n"
          ]
        },
        {
          "output_type": "stream",
          "name": "stderr",
          "text": [
            "INFO:sqlalchemy.engine.Engine:[no key 0.00542s] ()\n"
          ]
        },
        {
          "output_type": "stream",
          "name": "stdout",
          "text": [
            "2022-12-19 19:57:08,779 INFO sqlalchemy.engine.Engine COMMIT\n"
          ]
        },
        {
          "output_type": "stream",
          "name": "stderr",
          "text": [
            "INFO:sqlalchemy.engine.Engine:COMMIT\n"
          ]
        },
        {
          "output_type": "stream",
          "name": "stdout",
          "text": [
            "2022-12-19 19:57:08,781 INFO sqlalchemy.engine.Engine CREATE INDEX ix_school_details_index ON school_details (\"index\")\n"
          ]
        },
        {
          "output_type": "stream",
          "name": "stderr",
          "text": [
            "INFO:sqlalchemy.engine.Engine:CREATE INDEX ix_school_details_index ON school_details (\"index\")\n"
          ]
        },
        {
          "output_type": "stream",
          "name": "stdout",
          "text": [
            "2022-12-19 19:57:08,784 INFO sqlalchemy.engine.Engine [no key 0.00244s] ()\n"
          ]
        },
        {
          "output_type": "stream",
          "name": "stderr",
          "text": [
            "INFO:sqlalchemy.engine.Engine:[no key 0.00244s] ()\n"
          ]
        },
        {
          "output_type": "stream",
          "name": "stdout",
          "text": [
            "2022-12-19 19:57:08,795 INFO sqlalchemy.engine.Engine COMMIT\n"
          ]
        },
        {
          "output_type": "stream",
          "name": "stderr",
          "text": [
            "INFO:sqlalchemy.engine.Engine:COMMIT\n"
          ]
        },
        {
          "output_type": "stream",
          "name": "stdout",
          "text": [
            "2022-12-19 19:57:08,813 INFO sqlalchemy.engine.Engine BEGIN (implicit)\n"
          ]
        },
        {
          "output_type": "stream",
          "name": "stderr",
          "text": [
            "INFO:sqlalchemy.engine.Engine:BEGIN (implicit)\n"
          ]
        },
        {
          "output_type": "stream",
          "name": "stdout",
          "text": [
            "2022-12-19 19:57:08,846 INFO sqlalchemy.engine.Engine INSERT INTO school_details (\"index\", \"DistrictName\", \"EstablishmentCode\", \"EstablishmentName\", \"BRCName\", \"CRCName\", \"SchoolLevel\", \"ManagementName\", \"LocalityHabitation\", \"SubdivisionName\", \"ConstituencyName\", \"RevenueBlockName\", \"CivicBodyName\", \"WardName\", \"PostOfficeName\", \"PhoneNo\", \"FaxNo\", \"EmailID\", \"Website\", \"LocatedInRuralOrUrban\", \"DiseCode\", \"EstablishedDate\", \"DistrictHQDistance (in Km)\", \"CRCDistance (in Km)\", \"BACDistance (in Km)\", \"IsRecognized\", \"RecognizedBy\", \"ContactPersonName\", \"LowestClass\", \"HighestClass\", \"BoardName\") VALUES (?, ?, ?, ?, ?, ?, ?, ?, ?, ?, ?, ?, ?, ?, ?, ?, ?, ?, ?, ?, ?, ?, ?, ?, ?, ?, ?, ?, ?, ?, ?)\n"
          ]
        },
        {
          "output_type": "stream",
          "name": "stderr",
          "text": [
            "INFO:sqlalchemy.engine.Engine:INSERT INTO school_details (\"index\", \"DistrictName\", \"EstablishmentCode\", \"EstablishmentName\", \"BRCName\", \"CRCName\", \"SchoolLevel\", \"ManagementName\", \"LocalityHabitation\", \"SubdivisionName\", \"ConstituencyName\", \"RevenueBlockName\", \"CivicBodyName\", \"WardName\", \"PostOfficeName\", \"PhoneNo\", \"FaxNo\", \"EmailID\", \"Website\", \"LocatedInRuralOrUrban\", \"DiseCode\", \"EstablishedDate\", \"DistrictHQDistance (in Km)\", \"CRCDistance (in Km)\", \"BACDistance (in Km)\", \"IsRecognized\", \"RecognizedBy\", \"ContactPersonName\", \"LowestClass\", \"HighestClass\", \"BoardName\") VALUES (?, ?, ?, ?, ?, ?, ?, ?, ?, ?, ?, ?, ?, ?, ?, ?, ?, ?, ?, ?, ?, ?, ?, ?, ?, ?, ?, ?, ?, ?, ?)\n"
          ]
        },
        {
          "output_type": "stream",
          "name": "stdout",
          "text": [
            "2022-12-19 19:57:08,860 INFO sqlalchemy.engine.Engine [generated in 0.03553s] ((0, 'East', 'S0169', 'BUDANG GOVERNMENT PRIMARY SCHOOL (E)', 'Duga Brc', 'Central Pendam Government Senior Secondary School', 'PS', 'State Govt.', 'BUDANG', 'Gangtok', 'Rhenock', 'Central Pendam', 'Central Pendam', 'Sajong', 'Upper Pendam', None, None, None, None, 'Urban Area', None, '28126', 58.0, 8.0, 16.0, 'Recognized', 'HRDD', None, 'Class 1', 'Class 5', None), (1, 'East', 'S0099', 'CENTRAL PENDAM GOVERNMENT SENIOR SECONDARY SCHOOL', 'Duga Brc', 'Central Pendam Government Senior Secondary School', 'SSS', 'State Govt.', 'CENTRAL PENDAM', 'Gangtok', 'West Pandam', 'Central Pendam', 'Central Pendam', 'Karmithang', 'Upper Pendam', '3592263812', None, None, None, 'Urban Area', '800401', '15342', 50.0, 0.0, 6.0, 'Recognized', 'HRDD', None, 'Class 1', 'Class 12', 'C.B.S.E.'), (2, 'East', 'S0848', 'CENTRAL POINT ACADEMY, CENTRAL PENDAM', 'Duga Brc', 'Central Pendam Government Senior Secondary School', 'SS', 'Private (Unaided)', 'UPPER BHURUNG CENTRAL PENDAM', 'Gangtok', 'West Pandam', 'Central Pendam', 'Central Pendam', 'Burung', 'Upper Pendam', '03592263809/263960', None, 'ksu_5162@yahoo.com', 'www.facebook.com/khanalkeshav (Group-CPA)', 'Urban Area', None, '37257.38680555556', 49.0, 1.5, 6.0, 'Recognized', 'HRDD, GOVT. OF SIKKIM', None, 'Class 1', 'Class 10', 'C.B.S.E.'), (3, 'East', 'S0190', 'CHEURIBOTEY GOVERNMENT JUNIOR HIGH SCHOOL (E)', 'Duga Brc', 'Central Pendam Government Senior Secondary School', 'JHS', 'State Govt.', 'CHEURIBOTEY', 'Gangtok', 'West Pandam', 'Central Pendam', 'Central Pendam', 'Cheuribotey', 'Duga', None, None, None, None, 'Urban Area', None, '28856', 60.0, 6.0, 6.0, 'Recognized', 'State Govt.', None, 'Class 1', 'Class 8', None), (4, 'East', 'S0111', 'DUGA GOVERNMENT SECONDARY SCHOOL', 'Duga Brc', 'Central Pendam Government Senior Secondary School', 'SS', 'State Govt.', 'DUGA', 'Gangtok', 'West Pandam', 'Central Pendam', 'Central Pendam', 'Duga', 'Duga', '9832082915', None, 'dugaschool@gmail.com', None, 'Urban Area', None, '1828', 52.0, 0.0, 0.5, 'Recognized', 'c.b.s.e.', None, 'Class 1', 'Class 10', 'C.B.S.E.'), (5, 'East', 'S0856', 'EASWARAMMA SAI GURUKOOL ACCADEMY', 'Duga Brc', 'Central Pendam Government Senior Secondary School', 'PS', 'Private (Unaided)', 'RALUNG', 'Gangtok', 'West Pandam', 'Central Pendam', 'West Pendam', 'Ralang', 'West Pendam', '9733056624', None, None, None, 'Urban Area', None, '40179.66805555556', 0.0, 0.2, 0.2, 'Recognized', None, None, 'Class 1', 'Class 5', None), (6, 'East', 'S0870', 'ETERNAL ENGLISH SCHOOL, WEST PENDAM', 'Duga Brc', 'Central Pendam Government Senior Secondary School', 'PS', 'Private (Unaided)', 'SAKHU WEST PENDAM', 'Gangtok', 'West Pandam', 'West Pendam', 'West Pendam', 'Sakhu', 'Sakhu Busty', '9734190544', None, None, None, 'Urban Area', None, '37300.66805555556', 42.0, 3.0, 4.0, 'Recognized', 'HRDD OF SIKKIM', None, 'Class 1', 'Class 5', None), (7, 'East', 'S0157', 'KHANI GOAN GOVERNMENT PRIMARY SCHOOL', 'Duga Brc', 'Central Pendam Government Senior Secondary School', 'PS', 'State Govt.', 'WEST PENDAM', 'Gangtok', 'West Pandam', 'West Pendam', 'West Pendam', 'Khanigaon', 'West Pendam', '9832470263', None, None, None, 'Urban Area', '801801', '29587', 45.0, 5.0, 4.0, 'Recognized', 'State Govt.', None, 'Class 1', 'Class 5', 'C.B.S.E.')  ... displaying 10 of 1249 total bound parameter sets ...  (1247, 'West', 'S0340', 'TINGTING GAON GOVERNMENT PRIMARY SCHOOL', 'Yuksom Brc', 'Yuksom Government Secondary School', 'PS', 'State Govt.', 'TING TING GAON', 'Gyalshing', 'Yoksam-Tashiding', 'Yoksam', 'Yuksom', 'Tingting', 'Yuksom', '9593377402', None, None, None, 'Urban Area', '100282', '29587', 36.0, 3.0, 6.0, 'Recognized', 'STATE GOVERNMENT', None, 'Class 1', 'Class 5', None), (1248, 'West', 'S0542', 'TSONG GOVERNMENT PRIMARY SCHOOL', 'Yuksom Brc', 'Yuksom Government Secondary School', 'PS', 'State Govt.', 'TSONG', 'Gyalshing', 'Yoksam-Tashiding', 'Yoksam', 'Yuksom', 'Yoksam', 'Yuksom', None, None, None, None, 'Urban Area', None, '28176', 40.0, 7.0, 8.0, 'Recognized', 'State Government', None, 'Class 1', 'Class 5', 'C.B.S.E.'))\n"
          ]
        },
        {
          "output_type": "stream",
          "name": "stderr",
          "text": [
            "INFO:sqlalchemy.engine.Engine:[generated in 0.03553s] ((0, 'East', 'S0169', 'BUDANG GOVERNMENT PRIMARY SCHOOL (E)', 'Duga Brc', 'Central Pendam Government Senior Secondary School', 'PS', 'State Govt.', 'BUDANG', 'Gangtok', 'Rhenock', 'Central Pendam', 'Central Pendam', 'Sajong', 'Upper Pendam', None, None, None, None, 'Urban Area', None, '28126', 58.0, 8.0, 16.0, 'Recognized', 'HRDD', None, 'Class 1', 'Class 5', None), (1, 'East', 'S0099', 'CENTRAL PENDAM GOVERNMENT SENIOR SECONDARY SCHOOL', 'Duga Brc', 'Central Pendam Government Senior Secondary School', 'SSS', 'State Govt.', 'CENTRAL PENDAM', 'Gangtok', 'West Pandam', 'Central Pendam', 'Central Pendam', 'Karmithang', 'Upper Pendam', '3592263812', None, None, None, 'Urban Area', '800401', '15342', 50.0, 0.0, 6.0, 'Recognized', 'HRDD', None, 'Class 1', 'Class 12', 'C.B.S.E.'), (2, 'East', 'S0848', 'CENTRAL POINT ACADEMY, CENTRAL PENDAM', 'Duga Brc', 'Central Pendam Government Senior Secondary School', 'SS', 'Private (Unaided)', 'UPPER BHURUNG CENTRAL PENDAM', 'Gangtok', 'West Pandam', 'Central Pendam', 'Central Pendam', 'Burung', 'Upper Pendam', '03592263809/263960', None, 'ksu_5162@yahoo.com', 'www.facebook.com/khanalkeshav (Group-CPA)', 'Urban Area', None, '37257.38680555556', 49.0, 1.5, 6.0, 'Recognized', 'HRDD, GOVT. OF SIKKIM', None, 'Class 1', 'Class 10', 'C.B.S.E.'), (3, 'East', 'S0190', 'CHEURIBOTEY GOVERNMENT JUNIOR HIGH SCHOOL (E)', 'Duga Brc', 'Central Pendam Government Senior Secondary School', 'JHS', 'State Govt.', 'CHEURIBOTEY', 'Gangtok', 'West Pandam', 'Central Pendam', 'Central Pendam', 'Cheuribotey', 'Duga', None, None, None, None, 'Urban Area', None, '28856', 60.0, 6.0, 6.0, 'Recognized', 'State Govt.', None, 'Class 1', 'Class 8', None), (4, 'East', 'S0111', 'DUGA GOVERNMENT SECONDARY SCHOOL', 'Duga Brc', 'Central Pendam Government Senior Secondary School', 'SS', 'State Govt.', 'DUGA', 'Gangtok', 'West Pandam', 'Central Pendam', 'Central Pendam', 'Duga', 'Duga', '9832082915', None, 'dugaschool@gmail.com', None, 'Urban Area', None, '1828', 52.0, 0.0, 0.5, 'Recognized', 'c.b.s.e.', None, 'Class 1', 'Class 10', 'C.B.S.E.'), (5, 'East', 'S0856', 'EASWARAMMA SAI GURUKOOL ACCADEMY', 'Duga Brc', 'Central Pendam Government Senior Secondary School', 'PS', 'Private (Unaided)', 'RALUNG', 'Gangtok', 'West Pandam', 'Central Pendam', 'West Pendam', 'Ralang', 'West Pendam', '9733056624', None, None, None, 'Urban Area', None, '40179.66805555556', 0.0, 0.2, 0.2, 'Recognized', None, None, 'Class 1', 'Class 5', None), (6, 'East', 'S0870', 'ETERNAL ENGLISH SCHOOL, WEST PENDAM', 'Duga Brc', 'Central Pendam Government Senior Secondary School', 'PS', 'Private (Unaided)', 'SAKHU WEST PENDAM', 'Gangtok', 'West Pandam', 'West Pendam', 'West Pendam', 'Sakhu', 'Sakhu Busty', '9734190544', None, None, None, 'Urban Area', None, '37300.66805555556', 42.0, 3.0, 4.0, 'Recognized', 'HRDD OF SIKKIM', None, 'Class 1', 'Class 5', None), (7, 'East', 'S0157', 'KHANI GOAN GOVERNMENT PRIMARY SCHOOL', 'Duga Brc', 'Central Pendam Government Senior Secondary School', 'PS', 'State Govt.', 'WEST PENDAM', 'Gangtok', 'West Pandam', 'West Pendam', 'West Pendam', 'Khanigaon', 'West Pendam', '9832470263', None, None, None, 'Urban Area', '801801', '29587', 45.0, 5.0, 4.0, 'Recognized', 'State Govt.', None, 'Class 1', 'Class 5', 'C.B.S.E.')  ... displaying 10 of 1249 total bound parameter sets ...  (1247, 'West', 'S0340', 'TINGTING GAON GOVERNMENT PRIMARY SCHOOL', 'Yuksom Brc', 'Yuksom Government Secondary School', 'PS', 'State Govt.', 'TING TING GAON', 'Gyalshing', 'Yoksam-Tashiding', 'Yoksam', 'Yuksom', 'Tingting', 'Yuksom', '9593377402', None, None, None, 'Urban Area', '100282', '29587', 36.0, 3.0, 6.0, 'Recognized', 'STATE GOVERNMENT', None, 'Class 1', 'Class 5', None), (1248, 'West', 'S0542', 'TSONG GOVERNMENT PRIMARY SCHOOL', 'Yuksom Brc', 'Yuksom Government Secondary School', 'PS', 'State Govt.', 'TSONG', 'Gyalshing', 'Yoksam-Tashiding', 'Yoksam', 'Yuksom', 'Yoksam', 'Yuksom', None, None, None, None, 'Urban Area', None, '28176', 40.0, 7.0, 8.0, 'Recognized', 'State Government', None, 'Class 1', 'Class 5', 'C.B.S.E.'))\n"
          ]
        },
        {
          "output_type": "stream",
          "name": "stdout",
          "text": [
            "2022-12-19 19:57:08,881 INFO sqlalchemy.engine.Engine COMMIT\n"
          ]
        },
        {
          "output_type": "stream",
          "name": "stderr",
          "text": [
            "INFO:sqlalchemy.engine.Engine:COMMIT\n"
          ]
        },
        {
          "output_type": "stream",
          "name": "stdout",
          "text": [
            "2022-12-19 19:57:08,899 INFO sqlalchemy.engine.Engine PRAGMA main.table_info(\"school_facility_details\")\n"
          ]
        },
        {
          "output_type": "stream",
          "name": "stderr",
          "text": [
            "INFO:sqlalchemy.engine.Engine:PRAGMA main.table_info(\"school_facility_details\")\n"
          ]
        },
        {
          "output_type": "stream",
          "name": "stdout",
          "text": [
            "2022-12-19 19:57:08,901 INFO sqlalchemy.engine.Engine [raw sql] ()\n"
          ]
        },
        {
          "output_type": "stream",
          "name": "stderr",
          "text": [
            "INFO:sqlalchemy.engine.Engine:[raw sql] ()\n"
          ]
        },
        {
          "output_type": "stream",
          "name": "stdout",
          "text": [
            "2022-12-19 19:57:08,905 INFO sqlalchemy.engine.Engine PRAGMA temp.table_info(\"school_facility_details\")\n"
          ]
        },
        {
          "output_type": "stream",
          "name": "stderr",
          "text": [
            "INFO:sqlalchemy.engine.Engine:PRAGMA temp.table_info(\"school_facility_details\")\n"
          ]
        },
        {
          "output_type": "stream",
          "name": "stdout",
          "text": [
            "2022-12-19 19:57:08,907 INFO sqlalchemy.engine.Engine [raw sql] ()\n"
          ]
        },
        {
          "output_type": "stream",
          "name": "stderr",
          "text": [
            "INFO:sqlalchemy.engine.Engine:[raw sql] ()\n"
          ]
        },
        {
          "output_type": "stream",
          "name": "stdout",
          "text": [
            "2022-12-19 19:57:08,913 INFO sqlalchemy.engine.Engine \n",
            "CREATE TABLE school_facility_details (\n",
            "\t\"index\" BIGINT, \n",
            "\t\"EstablishmentCode\" TEXT, \n",
            "\t\"EstablishmentName\" TEXT, \n",
            "\t\"IsLibraryAvailable\" TEXT, \n",
            "\t\"AvailableBooksCount\" BIGINT, \n",
            "\t\"IsFireExtgAvailable\" TEXT, \n",
            "\t\"ExtinguisherCount\" BIGINT, \n",
            "\t\"HOIRoomAvailable\" TEXT, \n",
            "\t\"IsStaffRoomAvailable\" TEXT, \n",
            "\t\"NoofStaffRoom\" BIGINT, \n",
            "\t\"IsLockerForStaffAvailable\" TEXT, \n",
            "\t\"IsSportsStoreRoomAvailable\" TEXT\n",
            ")\n",
            "\n",
            "\n"
          ]
        },
        {
          "output_type": "stream",
          "name": "stderr",
          "text": [
            "INFO:sqlalchemy.engine.Engine:\n",
            "CREATE TABLE school_facility_details (\n",
            "\t\"index\" BIGINT, \n",
            "\t\"EstablishmentCode\" TEXT, \n",
            "\t\"EstablishmentName\" TEXT, \n",
            "\t\"IsLibraryAvailable\" TEXT, \n",
            "\t\"AvailableBooksCount\" BIGINT, \n",
            "\t\"IsFireExtgAvailable\" TEXT, \n",
            "\t\"ExtinguisherCount\" BIGINT, \n",
            "\t\"HOIRoomAvailable\" TEXT, \n",
            "\t\"IsStaffRoomAvailable\" TEXT, \n",
            "\t\"NoofStaffRoom\" BIGINT, \n",
            "\t\"IsLockerForStaffAvailable\" TEXT, \n",
            "\t\"IsSportsStoreRoomAvailable\" TEXT\n",
            ")\n",
            "\n",
            "\n"
          ]
        },
        {
          "output_type": "stream",
          "name": "stdout",
          "text": [
            "2022-12-19 19:57:08,916 INFO sqlalchemy.engine.Engine [no key 0.00289s] ()\n"
          ]
        },
        {
          "output_type": "stream",
          "name": "stderr",
          "text": [
            "INFO:sqlalchemy.engine.Engine:[no key 0.00289s] ()\n"
          ]
        },
        {
          "output_type": "stream",
          "name": "stdout",
          "text": [
            "2022-12-19 19:57:08,928 INFO sqlalchemy.engine.Engine COMMIT\n"
          ]
        },
        {
          "output_type": "stream",
          "name": "stderr",
          "text": [
            "INFO:sqlalchemy.engine.Engine:COMMIT\n"
          ]
        },
        {
          "output_type": "stream",
          "name": "stdout",
          "text": [
            "2022-12-19 19:57:08,930 INFO sqlalchemy.engine.Engine CREATE INDEX ix_school_facility_details_index ON school_facility_details (\"index\")\n"
          ]
        },
        {
          "output_type": "stream",
          "name": "stderr",
          "text": [
            "INFO:sqlalchemy.engine.Engine:CREATE INDEX ix_school_facility_details_index ON school_facility_details (\"index\")\n"
          ]
        },
        {
          "output_type": "stream",
          "name": "stdout",
          "text": [
            "2022-12-19 19:57:08,933 INFO sqlalchemy.engine.Engine [no key 0.00290s] ()\n"
          ]
        },
        {
          "output_type": "stream",
          "name": "stderr",
          "text": [
            "INFO:sqlalchemy.engine.Engine:[no key 0.00290s] ()\n"
          ]
        },
        {
          "output_type": "stream",
          "name": "stdout",
          "text": [
            "2022-12-19 19:57:08,944 INFO sqlalchemy.engine.Engine COMMIT\n"
          ]
        },
        {
          "output_type": "stream",
          "name": "stderr",
          "text": [
            "INFO:sqlalchemy.engine.Engine:COMMIT\n"
          ]
        },
        {
          "output_type": "stream",
          "name": "stdout",
          "text": [
            "2022-12-19 19:57:08,964 INFO sqlalchemy.engine.Engine BEGIN (implicit)\n"
          ]
        },
        {
          "output_type": "stream",
          "name": "stderr",
          "text": [
            "INFO:sqlalchemy.engine.Engine:BEGIN (implicit)\n"
          ]
        },
        {
          "output_type": "stream",
          "name": "stdout",
          "text": [
            "2022-12-19 19:57:08,985 INFO sqlalchemy.engine.Engine INSERT INTO school_facility_details (\"index\", \"EstablishmentCode\", \"EstablishmentName\", \"IsLibraryAvailable\", \"AvailableBooksCount\", \"IsFireExtgAvailable\", \"ExtinguisherCount\", \"HOIRoomAvailable\", \"IsStaffRoomAvailable\", \"NoofStaffRoom\", \"IsLockerForStaffAvailable\", \"IsSportsStoreRoomAvailable\") VALUES (?, ?, ?, ?, ?, ?, ?, ?, ?, ?, ?, ?)\n"
          ]
        },
        {
          "output_type": "stream",
          "name": "stderr",
          "text": [
            "INFO:sqlalchemy.engine.Engine:INSERT INTO school_facility_details (\"index\", \"EstablishmentCode\", \"EstablishmentName\", \"IsLibraryAvailable\", \"AvailableBooksCount\", \"IsFireExtgAvailable\", \"ExtinguisherCount\", \"HOIRoomAvailable\", \"IsStaffRoomAvailable\", \"NoofStaffRoom\", \"IsLockerForStaffAvailable\", \"IsSportsStoreRoomAvailable\") VALUES (?, ?, ?, ?, ?, ?, ?, ?, ?, ?, ?, ?)\n"
          ]
        },
        {
          "output_type": "stream",
          "name": "stdout",
          "text": [
            "2022-12-19 19:57:08,987 INFO sqlalchemy.engine.Engine [generated in 0.01124s] ((0, 'S1034', '(I.E.C) INDIAN EVANGALISTIC CRUSADE MISSION PRIMARY SCHOOL, RIMBI', 'Not Available', 0, 'Available', 1, 'Available', 'Not Available', 0, 'Not Available', 'Not Available'), (1, 'S0516', '10TH MILE GOVERNMENT PRIMARY SCHOOL', 'Not Available', 0, 'Not Available', 0, 'Available', 'Available', 1, 'Not Available', 'Not Available'), (2, 'S0237', '4TH MILE GOVERNMENT JUNIOR HIGH SCHOOL', 'Not Available', 0, 'Available', 2, 'Not Available', 'Not Available', 0, 'Not Available', 'Not Available'), (3, 'S0692', 'AAPGAZI GOVERNMENT PRIMARY SCHOOL', 'Not Available', 0, 'Not Available', 0, 'Not Available', 'Not Available', 0, 'Not Available', 'Not Available'), (4, 'S0374', 'AARUBOTEY GOVERNMENT PRIMARY SCHOOL', 'Not Available', 0, 'Available', 2, 'Not Available', 'Not Available', 0, 'Not Available', 'Not Available'), (5, 'S0218', 'ADAMPOOL GOVERNMENT JUNIOR HIGH SCHOOL', 'Available', 217, 'Available', 5, 'Available', 'Available', 1, 'Available', 'Not Available'), (6, 'S1064', 'ADONAI HOMES , NAYA BAZAR', 'Available', 0, 'Available', 0, 'Not Available', 'Available', 2, 'Not Available', 'Available'), (7, 'C1348', 'ADVANCED TECHNICAL TRAINING CENTRE', 'Available', 0, 'Available', 0, 'Available', 'Available', 0, 'Available', 'Available')  ... displaying 10 of 1256 total bound parameter sets ...  (1254, 'S0185', 'ZITLANG GOVERNMENT JUNIOR HIGH SCHOOL', 'Available', 0, 'Available', 5, 'Not Available', 'Available', 1, 'Not Available', 'Not Available'), (1255, 'S0267', 'ZOOM GOVERNMENT SECONDARY SCHOOL', 'Not Available', 0, 'Available', 6, 'Available', 'Available', 1, 'Available', 'Not Available'))\n"
          ]
        },
        {
          "output_type": "stream",
          "name": "stderr",
          "text": [
            "INFO:sqlalchemy.engine.Engine:[generated in 0.01124s] ((0, 'S1034', '(I.E.C) INDIAN EVANGALISTIC CRUSADE MISSION PRIMARY SCHOOL, RIMBI', 'Not Available', 0, 'Available', 1, 'Available', 'Not Available', 0, 'Not Available', 'Not Available'), (1, 'S0516', '10TH MILE GOVERNMENT PRIMARY SCHOOL', 'Not Available', 0, 'Not Available', 0, 'Available', 'Available', 1, 'Not Available', 'Not Available'), (2, 'S0237', '4TH MILE GOVERNMENT JUNIOR HIGH SCHOOL', 'Not Available', 0, 'Available', 2, 'Not Available', 'Not Available', 0, 'Not Available', 'Not Available'), (3, 'S0692', 'AAPGAZI GOVERNMENT PRIMARY SCHOOL', 'Not Available', 0, 'Not Available', 0, 'Not Available', 'Not Available', 0, 'Not Available', 'Not Available'), (4, 'S0374', 'AARUBOTEY GOVERNMENT PRIMARY SCHOOL', 'Not Available', 0, 'Available', 2, 'Not Available', 'Not Available', 0, 'Not Available', 'Not Available'), (5, 'S0218', 'ADAMPOOL GOVERNMENT JUNIOR HIGH SCHOOL', 'Available', 217, 'Available', 5, 'Available', 'Available', 1, 'Available', 'Not Available'), (6, 'S1064', 'ADONAI HOMES , NAYA BAZAR', 'Available', 0, 'Available', 0, 'Not Available', 'Available', 2, 'Not Available', 'Available'), (7, 'C1348', 'ADVANCED TECHNICAL TRAINING CENTRE', 'Available', 0, 'Available', 0, 'Available', 'Available', 0, 'Available', 'Available')  ... displaying 10 of 1256 total bound parameter sets ...  (1254, 'S0185', 'ZITLANG GOVERNMENT JUNIOR HIGH SCHOOL', 'Available', 0, 'Available', 5, 'Not Available', 'Available', 1, 'Not Available', 'Not Available'), (1255, 'S0267', 'ZOOM GOVERNMENT SECONDARY SCHOOL', 'Not Available', 0, 'Available', 6, 'Available', 'Available', 1, 'Available', 'Not Available'))\n"
          ]
        },
        {
          "output_type": "stream",
          "name": "stdout",
          "text": [
            "2022-12-19 19:57:09,006 INFO sqlalchemy.engine.Engine COMMIT\n"
          ]
        },
        {
          "output_type": "stream",
          "name": "stderr",
          "text": [
            "INFO:sqlalchemy.engine.Engine:COMMIT\n"
          ]
        }
      ]
    },
    {
      "cell_type": "markdown",
      "metadata": {
        "id": "josvz8RqutAv"
      },
      "source": [
        "## Aggregates\n",
        "\n",
        "1. What is the average BACDistance (in Km)? Rename the ouptut column to \"avg_bac_distance.\""
      ]
    },
    {
      "cell_type": "code",
      "metadata": {
        "id": "dD-WyYtBuzuu",
        "colab": {
          "base_uri": "https://localhost:8080/",
          "height": 254
        },
        "outputId": "400a8f0c-c1ee-4a11-e8b7-472862302e30"
      },
      "source": [
        "# Write your SQL query in this string\n",
        "sql = \"\"\"\n",
        "SELECT AVG(`BACDistance (in Km)`) AS avg_bac_distance\n",
        "FROM school_details;\n",
        "\"\"\"\n",
        "\n",
        "# Read the sql query into pandas to view the results\n",
        "df = pd.read_sql_query(sql, engine)\n",
        "df.head()"
      ],
      "execution_count": 7,
      "outputs": [
        {
          "output_type": "stream",
          "name": "stdout",
          "text": [
            "2022-12-19 20:03:18,876 INFO sqlalchemy.engine.Engine \n",
            "SELECT AVG(`BACDistance (in Km)`) AS avg_bac_distance\n",
            "FROM school_details;\n",
            "\n"
          ]
        },
        {
          "output_type": "stream",
          "name": "stderr",
          "text": [
            "INFO:sqlalchemy.engine.Engine:\n",
            "SELECT AVG(`BACDistance (in Km)`) AS avg_bac_distance\n",
            "FROM school_details;\n",
            "\n"
          ]
        },
        {
          "output_type": "stream",
          "name": "stdout",
          "text": [
            "2022-12-19 20:03:18,880 INFO sqlalchemy.engine.Engine [raw sql] ()\n"
          ]
        },
        {
          "output_type": "stream",
          "name": "stderr",
          "text": [
            "INFO:sqlalchemy.engine.Engine:[raw sql] ()\n"
          ]
        },
        {
          "output_type": "execute_result",
          "data": {
            "text/plain": [
              "   avg_bac_distance\n",
              "0         12.681822"
            ],
            "text/html": [
              "\n",
              "  <div id=\"df-45665f9a-abb4-48e8-b951-a523bf34eca4\">\n",
              "    <div class=\"colab-df-container\">\n",
              "      <div>\n",
              "<style scoped>\n",
              "    .dataframe tbody tr th:only-of-type {\n",
              "        vertical-align: middle;\n",
              "    }\n",
              "\n",
              "    .dataframe tbody tr th {\n",
              "        vertical-align: top;\n",
              "    }\n",
              "\n",
              "    .dataframe thead th {\n",
              "        text-align: right;\n",
              "    }\n",
              "</style>\n",
              "<table border=\"1\" class=\"dataframe\">\n",
              "  <thead>\n",
              "    <tr style=\"text-align: right;\">\n",
              "      <th></th>\n",
              "      <th>avg_bac_distance</th>\n",
              "    </tr>\n",
              "  </thead>\n",
              "  <tbody>\n",
              "    <tr>\n",
              "      <th>0</th>\n",
              "      <td>12.681822</td>\n",
              "    </tr>\n",
              "  </tbody>\n",
              "</table>\n",
              "</div>\n",
              "      <button class=\"colab-df-convert\" onclick=\"convertToInteractive('df-45665f9a-abb4-48e8-b951-a523bf34eca4')\"\n",
              "              title=\"Convert this dataframe to an interactive table.\"\n",
              "              style=\"display:none;\">\n",
              "        \n",
              "  <svg xmlns=\"http://www.w3.org/2000/svg\" height=\"24px\"viewBox=\"0 0 24 24\"\n",
              "       width=\"24px\">\n",
              "    <path d=\"M0 0h24v24H0V0z\" fill=\"none\"/>\n",
              "    <path d=\"M18.56 5.44l.94 2.06.94-2.06 2.06-.94-2.06-.94-.94-2.06-.94 2.06-2.06.94zm-11 1L8.5 8.5l.94-2.06 2.06-.94-2.06-.94L8.5 2.5l-.94 2.06-2.06.94zm10 10l.94 2.06.94-2.06 2.06-.94-2.06-.94-.94-2.06-.94 2.06-2.06.94z\"/><path d=\"M17.41 7.96l-1.37-1.37c-.4-.4-.92-.59-1.43-.59-.52 0-1.04.2-1.43.59L10.3 9.45l-7.72 7.72c-.78.78-.78 2.05 0 2.83L4 21.41c.39.39.9.59 1.41.59.51 0 1.02-.2 1.41-.59l7.78-7.78 2.81-2.81c.8-.78.8-2.07 0-2.86zM5.41 20L4 18.59l7.72-7.72 1.47 1.35L5.41 20z\"/>\n",
              "  </svg>\n",
              "      </button>\n",
              "      \n",
              "  <style>\n",
              "    .colab-df-container {\n",
              "      display:flex;\n",
              "      flex-wrap:wrap;\n",
              "      gap: 12px;\n",
              "    }\n",
              "\n",
              "    .colab-df-convert {\n",
              "      background-color: #E8F0FE;\n",
              "      border: none;\n",
              "      border-radius: 50%;\n",
              "      cursor: pointer;\n",
              "      display: none;\n",
              "      fill: #1967D2;\n",
              "      height: 32px;\n",
              "      padding: 0 0 0 0;\n",
              "      width: 32px;\n",
              "    }\n",
              "\n",
              "    .colab-df-convert:hover {\n",
              "      background-color: #E2EBFA;\n",
              "      box-shadow: 0px 1px 2px rgba(60, 64, 67, 0.3), 0px 1px 3px 1px rgba(60, 64, 67, 0.15);\n",
              "      fill: #174EA6;\n",
              "    }\n",
              "\n",
              "    [theme=dark] .colab-df-convert {\n",
              "      background-color: #3B4455;\n",
              "      fill: #D2E3FC;\n",
              "    }\n",
              "\n",
              "    [theme=dark] .colab-df-convert:hover {\n",
              "      background-color: #434B5C;\n",
              "      box-shadow: 0px 1px 3px 1px rgba(0, 0, 0, 0.15);\n",
              "      filter: drop-shadow(0px 1px 2px rgba(0, 0, 0, 0.3));\n",
              "      fill: #FFFFFF;\n",
              "    }\n",
              "  </style>\n",
              "\n",
              "      <script>\n",
              "        const buttonEl =\n",
              "          document.querySelector('#df-45665f9a-abb4-48e8-b951-a523bf34eca4 button.colab-df-convert');\n",
              "        buttonEl.style.display =\n",
              "          google.colab.kernel.accessAllowed ? 'block' : 'none';\n",
              "\n",
              "        async function convertToInteractive(key) {\n",
              "          const element = document.querySelector('#df-45665f9a-abb4-48e8-b951-a523bf34eca4');\n",
              "          const dataTable =\n",
              "            await google.colab.kernel.invokeFunction('convertToInteractive',\n",
              "                                                     [key], {});\n",
              "          if (!dataTable) return;\n",
              "\n",
              "          const docLinkHtml = 'Like what you see? Visit the ' +\n",
              "            '<a target=\"_blank\" href=https://colab.research.google.com/notebooks/data_table.ipynb>data table notebook</a>'\n",
              "            + ' to learn more about interactive tables.';\n",
              "          element.innerHTML = '';\n",
              "          dataTable['output_type'] = 'display_data';\n",
              "          await google.colab.output.renderOutput(dataTable, element);\n",
              "          const docLink = document.createElement('div');\n",
              "          docLink.innerHTML = docLinkHtml;\n",
              "          element.appendChild(docLink);\n",
              "        }\n",
              "      </script>\n",
              "    </div>\n",
              "  </div>\n",
              "  "
            ]
          },
          "metadata": {},
          "execution_count": 7
        }
      ]
    },
    {
      "cell_type": "markdown",
      "metadata": {
        "id": "2hrqy6KgvOdh"
      },
      "source": [
        "## GROUP BY\n",
        "\n",
        "2. What is the average BACDistance (in Km) by School Level? Sort the results from highest average to lowest average."
      ]
    },
    {
      "cell_type": "code",
      "metadata": {
        "id": "NkjPihzvudvR",
        "colab": {
          "base_uri": "https://localhost:8080/",
          "height": 449
        },
        "outputId": "40fb1a8a-d56e-4314-8864-68ad52cc646b"
      },
      "source": [
        "# Write your SQL query in this string\n",
        "sql = \"\"\"\n",
        "SELECT AVG(`BACDistance (in Km)`) AS avg_bac_distance\n",
        "FROM school_details\n",
        "GROUP BY SchoolLevel\n",
        "ORDER BY avg_bac_distance DESC;\n",
        "\"\"\"\n",
        "\n",
        "# Read the sql query into pandas to view the results\n",
        "df = pd.read_sql_query(sql, engine)\n",
        "df.head()"
      ],
      "execution_count": 10,
      "outputs": [
        {
          "output_type": "stream",
          "name": "stdout",
          "text": [
            "2022-12-19 20:08:00,342 INFO sqlalchemy.engine.Engine \n",
            "SELECT AVG(`BACDistance (in Km)`) AS avg_bac_distance\n",
            "FROM school_details\n",
            "GROUP BY SchoolLevel\n",
            "ORDER BY avg_bac_distance DESC;\n",
            "\n"
          ]
        },
        {
          "output_type": "stream",
          "name": "stderr",
          "text": [
            "INFO:sqlalchemy.engine.Engine:\n",
            "SELECT AVG(`BACDistance (in Km)`) AS avg_bac_distance\n",
            "FROM school_details\n",
            "GROUP BY SchoolLevel\n",
            "ORDER BY avg_bac_distance DESC;\n",
            "\n"
          ]
        },
        {
          "output_type": "stream",
          "name": "stdout",
          "text": [
            "2022-12-19 20:08:00,345 INFO sqlalchemy.engine.Engine [raw sql] ()\n"
          ]
        },
        {
          "output_type": "stream",
          "name": "stderr",
          "text": [
            "INFO:sqlalchemy.engine.Engine:[raw sql] ()\n"
          ]
        },
        {
          "output_type": "execute_result",
          "data": {
            "text/plain": [
              "   avg_bac_distance\n",
              "0         13.692647\n",
              "1         12.830787\n",
              "2         12.630872\n",
              "3         10.863095\n",
              "4          5.368421"
            ],
            "text/html": [
              "\n",
              "  <div id=\"df-059788dc-85c2-4a2c-9a49-96da98f557ee\">\n",
              "    <div class=\"colab-df-container\">\n",
              "      <div>\n",
              "<style scoped>\n",
              "    .dataframe tbody tr th:only-of-type {\n",
              "        vertical-align: middle;\n",
              "    }\n",
              "\n",
              "    .dataframe tbody tr th {\n",
              "        vertical-align: top;\n",
              "    }\n",
              "\n",
              "    .dataframe thead th {\n",
              "        text-align: right;\n",
              "    }\n",
              "</style>\n",
              "<table border=\"1\" class=\"dataframe\">\n",
              "  <thead>\n",
              "    <tr style=\"text-align: right;\">\n",
              "      <th></th>\n",
              "      <th>avg_bac_distance</th>\n",
              "    </tr>\n",
              "  </thead>\n",
              "  <tbody>\n",
              "    <tr>\n",
              "      <th>0</th>\n",
              "      <td>13.692647</td>\n",
              "    </tr>\n",
              "    <tr>\n",
              "      <th>1</th>\n",
              "      <td>12.830787</td>\n",
              "    </tr>\n",
              "    <tr>\n",
              "      <th>2</th>\n",
              "      <td>12.630872</td>\n",
              "    </tr>\n",
              "    <tr>\n",
              "      <th>3</th>\n",
              "      <td>10.863095</td>\n",
              "    </tr>\n",
              "    <tr>\n",
              "      <th>4</th>\n",
              "      <td>5.368421</td>\n",
              "    </tr>\n",
              "  </tbody>\n",
              "</table>\n",
              "</div>\n",
              "      <button class=\"colab-df-convert\" onclick=\"convertToInteractive('df-059788dc-85c2-4a2c-9a49-96da98f557ee')\"\n",
              "              title=\"Convert this dataframe to an interactive table.\"\n",
              "              style=\"display:none;\">\n",
              "        \n",
              "  <svg xmlns=\"http://www.w3.org/2000/svg\" height=\"24px\"viewBox=\"0 0 24 24\"\n",
              "       width=\"24px\">\n",
              "    <path d=\"M0 0h24v24H0V0z\" fill=\"none\"/>\n",
              "    <path d=\"M18.56 5.44l.94 2.06.94-2.06 2.06-.94-2.06-.94-.94-2.06-.94 2.06-2.06.94zm-11 1L8.5 8.5l.94-2.06 2.06-.94-2.06-.94L8.5 2.5l-.94 2.06-2.06.94zm10 10l.94 2.06.94-2.06 2.06-.94-2.06-.94-.94-2.06-.94 2.06-2.06.94z\"/><path d=\"M17.41 7.96l-1.37-1.37c-.4-.4-.92-.59-1.43-.59-.52 0-1.04.2-1.43.59L10.3 9.45l-7.72 7.72c-.78.78-.78 2.05 0 2.83L4 21.41c.39.39.9.59 1.41.59.51 0 1.02-.2 1.41-.59l7.78-7.78 2.81-2.81c.8-.78.8-2.07 0-2.86zM5.41 20L4 18.59l7.72-7.72 1.47 1.35L5.41 20z\"/>\n",
              "  </svg>\n",
              "      </button>\n",
              "      \n",
              "  <style>\n",
              "    .colab-df-container {\n",
              "      display:flex;\n",
              "      flex-wrap:wrap;\n",
              "      gap: 12px;\n",
              "    }\n",
              "\n",
              "    .colab-df-convert {\n",
              "      background-color: #E8F0FE;\n",
              "      border: none;\n",
              "      border-radius: 50%;\n",
              "      cursor: pointer;\n",
              "      display: none;\n",
              "      fill: #1967D2;\n",
              "      height: 32px;\n",
              "      padding: 0 0 0 0;\n",
              "      width: 32px;\n",
              "    }\n",
              "\n",
              "    .colab-df-convert:hover {\n",
              "      background-color: #E2EBFA;\n",
              "      box-shadow: 0px 1px 2px rgba(60, 64, 67, 0.3), 0px 1px 3px 1px rgba(60, 64, 67, 0.15);\n",
              "      fill: #174EA6;\n",
              "    }\n",
              "\n",
              "    [theme=dark] .colab-df-convert {\n",
              "      background-color: #3B4455;\n",
              "      fill: #D2E3FC;\n",
              "    }\n",
              "\n",
              "    [theme=dark] .colab-df-convert:hover {\n",
              "      background-color: #434B5C;\n",
              "      box-shadow: 0px 1px 3px 1px rgba(0, 0, 0, 0.15);\n",
              "      filter: drop-shadow(0px 1px 2px rgba(0, 0, 0, 0.3));\n",
              "      fill: #FFFFFF;\n",
              "    }\n",
              "  </style>\n",
              "\n",
              "      <script>\n",
              "        const buttonEl =\n",
              "          document.querySelector('#df-059788dc-85c2-4a2c-9a49-96da98f557ee button.colab-df-convert');\n",
              "        buttonEl.style.display =\n",
              "          google.colab.kernel.accessAllowed ? 'block' : 'none';\n",
              "\n",
              "        async function convertToInteractive(key) {\n",
              "          const element = document.querySelector('#df-059788dc-85c2-4a2c-9a49-96da98f557ee');\n",
              "          const dataTable =\n",
              "            await google.colab.kernel.invokeFunction('convertToInteractive',\n",
              "                                                     [key], {});\n",
              "          if (!dataTable) return;\n",
              "\n",
              "          const docLinkHtml = 'Like what you see? Visit the ' +\n",
              "            '<a target=\"_blank\" href=https://colab.research.google.com/notebooks/data_table.ipynb>data table notebook</a>'\n",
              "            + ' to learn more about interactive tables.';\n",
              "          element.innerHTML = '';\n",
              "          dataTable['output_type'] = 'display_data';\n",
              "          await google.colab.output.renderOutput(dataTable, element);\n",
              "          const docLink = document.createElement('div');\n",
              "          docLink.innerHTML = docLinkHtml;\n",
              "          element.appendChild(docLink);\n",
              "        }\n",
              "      </script>\n",
              "    </div>\n",
              "  </div>\n",
              "  "
            ]
          },
          "metadata": {},
          "execution_count": 10
        }
      ]
    },
    {
      "cell_type": "markdown",
      "metadata": {
        "id": "bodZsD2av1dD"
      },
      "source": [
        "## Having\n",
        "\n",
        "3. Repeat the previous query, but only display results where the average distance is at least 10 km."
      ]
    },
    {
      "cell_type": "code",
      "metadata": {
        "id": "nyKYBoMuwCbR",
        "colab": {
          "base_uri": "https://localhost:8080/",
          "height": 452
        },
        "outputId": "34a493f2-abca-4d75-9979-68fde2047e17"
      },
      "source": [
        "# Write your SQL query in this string\n",
        "sql = \"\"\"\n",
        "SELECT AVG(`BACDistance (in Km)`) AS avg_bac_distance\n",
        "FROM school_details\n",
        "GROUP BY SchoolLevel\n",
        "HAVING avg_bac_distance > 10\n",
        "ORDER BY avg_bac_distance DESC;\n",
        "\"\"\"\n",
        "\n",
        "# Read the sql query into pandas to view the results\n",
        "df = pd.read_sql_query(sql, engine)\n",
        "df.head()"
      ],
      "execution_count": 17,
      "outputs": [
        {
          "output_type": "stream",
          "name": "stdout",
          "text": [
            "2022-12-19 20:12:05,286 INFO sqlalchemy.engine.Engine \n",
            "SELECT AVG(`BACDistance (in Km)`) AS avg_bac_distance\n",
            "FROM school_details\n",
            "GROUP BY SchoolLevel\n",
            "HAVING avg_bac_distance > 10\n",
            "ORDER BY avg_bac_distance DESC;\n",
            "\n"
          ]
        },
        {
          "output_type": "stream",
          "name": "stderr",
          "text": [
            "INFO:sqlalchemy.engine.Engine:\n",
            "SELECT AVG(`BACDistance (in Km)`) AS avg_bac_distance\n",
            "FROM school_details\n",
            "GROUP BY SchoolLevel\n",
            "HAVING avg_bac_distance > 10\n",
            "ORDER BY avg_bac_distance DESC;\n",
            "\n"
          ]
        },
        {
          "output_type": "stream",
          "name": "stdout",
          "text": [
            "2022-12-19 20:12:05,290 INFO sqlalchemy.engine.Engine [raw sql] ()\n"
          ]
        },
        {
          "output_type": "stream",
          "name": "stderr",
          "text": [
            "INFO:sqlalchemy.engine.Engine:[raw sql] ()\n"
          ]
        },
        {
          "output_type": "execute_result",
          "data": {
            "text/plain": [
              "   avg_bac_distance\n",
              "0         13.692647\n",
              "1         12.830787\n",
              "2         12.630872\n",
              "3         10.863095"
            ],
            "text/html": [
              "\n",
              "  <div id=\"df-fa47fd9f-0a63-47de-8533-88c2b874615d\">\n",
              "    <div class=\"colab-df-container\">\n",
              "      <div>\n",
              "<style scoped>\n",
              "    .dataframe tbody tr th:only-of-type {\n",
              "        vertical-align: middle;\n",
              "    }\n",
              "\n",
              "    .dataframe tbody tr th {\n",
              "        vertical-align: top;\n",
              "    }\n",
              "\n",
              "    .dataframe thead th {\n",
              "        text-align: right;\n",
              "    }\n",
              "</style>\n",
              "<table border=\"1\" class=\"dataframe\">\n",
              "  <thead>\n",
              "    <tr style=\"text-align: right;\">\n",
              "      <th></th>\n",
              "      <th>avg_bac_distance</th>\n",
              "    </tr>\n",
              "  </thead>\n",
              "  <tbody>\n",
              "    <tr>\n",
              "      <th>0</th>\n",
              "      <td>13.692647</td>\n",
              "    </tr>\n",
              "    <tr>\n",
              "      <th>1</th>\n",
              "      <td>12.830787</td>\n",
              "    </tr>\n",
              "    <tr>\n",
              "      <th>2</th>\n",
              "      <td>12.630872</td>\n",
              "    </tr>\n",
              "    <tr>\n",
              "      <th>3</th>\n",
              "      <td>10.863095</td>\n",
              "    </tr>\n",
              "  </tbody>\n",
              "</table>\n",
              "</div>\n",
              "      <button class=\"colab-df-convert\" onclick=\"convertToInteractive('df-fa47fd9f-0a63-47de-8533-88c2b874615d')\"\n",
              "              title=\"Convert this dataframe to an interactive table.\"\n",
              "              style=\"display:none;\">\n",
              "        \n",
              "  <svg xmlns=\"http://www.w3.org/2000/svg\" height=\"24px\"viewBox=\"0 0 24 24\"\n",
              "       width=\"24px\">\n",
              "    <path d=\"M0 0h24v24H0V0z\" fill=\"none\"/>\n",
              "    <path d=\"M18.56 5.44l.94 2.06.94-2.06 2.06-.94-2.06-.94-.94-2.06-.94 2.06-2.06.94zm-11 1L8.5 8.5l.94-2.06 2.06-.94-2.06-.94L8.5 2.5l-.94 2.06-2.06.94zm10 10l.94 2.06.94-2.06 2.06-.94-2.06-.94-.94-2.06-.94 2.06-2.06.94z\"/><path d=\"M17.41 7.96l-1.37-1.37c-.4-.4-.92-.59-1.43-.59-.52 0-1.04.2-1.43.59L10.3 9.45l-7.72 7.72c-.78.78-.78 2.05 0 2.83L4 21.41c.39.39.9.59 1.41.59.51 0 1.02-.2 1.41-.59l7.78-7.78 2.81-2.81c.8-.78.8-2.07 0-2.86zM5.41 20L4 18.59l7.72-7.72 1.47 1.35L5.41 20z\"/>\n",
              "  </svg>\n",
              "      </button>\n",
              "      \n",
              "  <style>\n",
              "    .colab-df-container {\n",
              "      display:flex;\n",
              "      flex-wrap:wrap;\n",
              "      gap: 12px;\n",
              "    }\n",
              "\n",
              "    .colab-df-convert {\n",
              "      background-color: #E8F0FE;\n",
              "      border: none;\n",
              "      border-radius: 50%;\n",
              "      cursor: pointer;\n",
              "      display: none;\n",
              "      fill: #1967D2;\n",
              "      height: 32px;\n",
              "      padding: 0 0 0 0;\n",
              "      width: 32px;\n",
              "    }\n",
              "\n",
              "    .colab-df-convert:hover {\n",
              "      background-color: #E2EBFA;\n",
              "      box-shadow: 0px 1px 2px rgba(60, 64, 67, 0.3), 0px 1px 3px 1px rgba(60, 64, 67, 0.15);\n",
              "      fill: #174EA6;\n",
              "    }\n",
              "\n",
              "    [theme=dark] .colab-df-convert {\n",
              "      background-color: #3B4455;\n",
              "      fill: #D2E3FC;\n",
              "    }\n",
              "\n",
              "    [theme=dark] .colab-df-convert:hover {\n",
              "      background-color: #434B5C;\n",
              "      box-shadow: 0px 1px 3px 1px rgba(0, 0, 0, 0.15);\n",
              "      filter: drop-shadow(0px 1px 2px rgba(0, 0, 0, 0.3));\n",
              "      fill: #FFFFFF;\n",
              "    }\n",
              "  </style>\n",
              "\n",
              "      <script>\n",
              "        const buttonEl =\n",
              "          document.querySelector('#df-fa47fd9f-0a63-47de-8533-88c2b874615d button.colab-df-convert');\n",
              "        buttonEl.style.display =\n",
              "          google.colab.kernel.accessAllowed ? 'block' : 'none';\n",
              "\n",
              "        async function convertToInteractive(key) {\n",
              "          const element = document.querySelector('#df-fa47fd9f-0a63-47de-8533-88c2b874615d');\n",
              "          const dataTable =\n",
              "            await google.colab.kernel.invokeFunction('convertToInteractive',\n",
              "                                                     [key], {});\n",
              "          if (!dataTable) return;\n",
              "\n",
              "          const docLinkHtml = 'Like what you see? Visit the ' +\n",
              "            '<a target=\"_blank\" href=https://colab.research.google.com/notebooks/data_table.ipynb>data table notebook</a>'\n",
              "            + ' to learn more about interactive tables.';\n",
              "          element.innerHTML = '';\n",
              "          dataTable['output_type'] = 'display_data';\n",
              "          await google.colab.output.renderOutput(dataTable, element);\n",
              "          const docLink = document.createElement('div');\n",
              "          docLink.innerHTML = docLinkHtml;\n",
              "          element.appendChild(docLink);\n",
              "        }\n",
              "      </script>\n",
              "    </div>\n",
              "  </div>\n",
              "  "
            ]
          },
          "metadata": {},
          "execution_count": 17
        }
      ]
    },
    {
      "cell_type": "markdown",
      "metadata": {
        "id": "XXeG19hywLlp"
      },
      "source": [
        "## Joins\n",
        "\n",
        "4. Join the two tables together (school_details and facility_details). Start by displaying all of the columns, but limit the resulting rows to just 2."
      ]
    },
    {
      "cell_type": "code",
      "metadata": {
        "id": "_JlXTE_ywUeQ",
        "colab": {
          "base_uri": "https://localhost:8080/",
          "height": 622
        },
        "outputId": "e2b66668-2e83-45c1-8bb0-1cbd0f8a8a9a"
      },
      "source": [
        "# Write your SQL query in this string\n",
        "sql = \"\"\"\n",
        "SELECT *\n",
        "FROM school_details d INNER JOIN school_facility_details f\n",
        "ON f.EstablishmentCode = d.EstablishmentCode\n",
        "LIMIT 2;\n",
        "\"\"\"\n",
        "\n",
        "# Read the sql query into pandas to view the results\n",
        "df = pd.read_sql_query(sql, engine)\n",
        "df.head()"
      ],
      "execution_count": 19,
      "outputs": [
        {
          "output_type": "stream",
          "name": "stdout",
          "text": [
            "2022-12-19 20:16:08,320 INFO sqlalchemy.engine.Engine \n",
            "SELECT *\n",
            "FROM school_details d INNER JOIN school_facility_details f\n",
            "ON f.EstablishmentCode = d.EstablishmentCode\n",
            "LIMIT 2;\n",
            "\n"
          ]
        },
        {
          "output_type": "stream",
          "name": "stderr",
          "text": [
            "INFO:sqlalchemy.engine.Engine:\n",
            "SELECT *\n",
            "FROM school_details d INNER JOIN school_facility_details f\n",
            "ON f.EstablishmentCode = d.EstablishmentCode\n",
            "LIMIT 2;\n",
            "\n"
          ]
        },
        {
          "output_type": "stream",
          "name": "stdout",
          "text": [
            "2022-12-19 20:16:08,327 INFO sqlalchemy.engine.Engine [raw sql] ()\n"
          ]
        },
        {
          "output_type": "stream",
          "name": "stderr",
          "text": [
            "INFO:sqlalchemy.engine.Engine:[raw sql] ()\n"
          ]
        },
        {
          "output_type": "execute_result",
          "data": {
            "text/plain": [
              "   index DistrictName EstablishmentCode  \\\n",
              "0      0         East             S0169   \n",
              "1      1         East             S0099   \n",
              "\n",
              "                                   EstablishmentName   BRCName  \\\n",
              "0               BUDANG GOVERNMENT PRIMARY SCHOOL (E)  Duga Brc   \n",
              "1  CENTRAL PENDAM GOVERNMENT SENIOR SECONDARY SCHOOL  Duga Brc   \n",
              "\n",
              "                                             CRCName SchoolLevel  \\\n",
              "0  Central Pendam Government Senior Secondary School          PS   \n",
              "1  Central Pendam Government Senior Secondary School         SSS   \n",
              "\n",
              "  ManagementName LocalityHabitation SubdivisionName  ...  \\\n",
              "0    State Govt.             BUDANG         Gangtok  ...   \n",
              "1    State Govt.     CENTRAL PENDAM         Gangtok  ...   \n",
              "\n",
              "                                   EstablishmentName IsLibraryAvailable  \\\n",
              "0               BUDANG GOVERNMENT PRIMARY SCHOOL (E)          Available   \n",
              "1  CENTRAL PENDAM GOVERNMENT SENIOR SECONDARY SCHOOL          Available   \n",
              "\n",
              "  AvailableBooksCount IsFireExtgAvailable ExtinguisherCount HOIRoomAvailable  \\\n",
              "0                 100           Available                 2        Available   \n",
              "1                   0           Available                 5        Available   \n",
              "\n",
              "  IsStaffRoomAvailable NoofStaffRoom IsLockerForStaffAvailable  \\\n",
              "0            Available             1             Not Available   \n",
              "1            Available             2             Not Available   \n",
              "\n",
              "  IsSportsStoreRoomAvailable  \n",
              "0              Not Available  \n",
              "1                  Available  \n",
              "\n",
              "[2 rows x 43 columns]"
            ],
            "text/html": [
              "\n",
              "  <div id=\"df-1e78fc16-d10a-4665-a716-8af675169cb9\">\n",
              "    <div class=\"colab-df-container\">\n",
              "      <div>\n",
              "<style scoped>\n",
              "    .dataframe tbody tr th:only-of-type {\n",
              "        vertical-align: middle;\n",
              "    }\n",
              "\n",
              "    .dataframe tbody tr th {\n",
              "        vertical-align: top;\n",
              "    }\n",
              "\n",
              "    .dataframe thead th {\n",
              "        text-align: right;\n",
              "    }\n",
              "</style>\n",
              "<table border=\"1\" class=\"dataframe\">\n",
              "  <thead>\n",
              "    <tr style=\"text-align: right;\">\n",
              "      <th></th>\n",
              "      <th>index</th>\n",
              "      <th>DistrictName</th>\n",
              "      <th>EstablishmentCode</th>\n",
              "      <th>EstablishmentName</th>\n",
              "      <th>BRCName</th>\n",
              "      <th>CRCName</th>\n",
              "      <th>SchoolLevel</th>\n",
              "      <th>ManagementName</th>\n",
              "      <th>LocalityHabitation</th>\n",
              "      <th>SubdivisionName</th>\n",
              "      <th>...</th>\n",
              "      <th>EstablishmentName</th>\n",
              "      <th>IsLibraryAvailable</th>\n",
              "      <th>AvailableBooksCount</th>\n",
              "      <th>IsFireExtgAvailable</th>\n",
              "      <th>ExtinguisherCount</th>\n",
              "      <th>HOIRoomAvailable</th>\n",
              "      <th>IsStaffRoomAvailable</th>\n",
              "      <th>NoofStaffRoom</th>\n",
              "      <th>IsLockerForStaffAvailable</th>\n",
              "      <th>IsSportsStoreRoomAvailable</th>\n",
              "    </tr>\n",
              "  </thead>\n",
              "  <tbody>\n",
              "    <tr>\n",
              "      <th>0</th>\n",
              "      <td>0</td>\n",
              "      <td>East</td>\n",
              "      <td>S0169</td>\n",
              "      <td>BUDANG GOVERNMENT PRIMARY SCHOOL (E)</td>\n",
              "      <td>Duga Brc</td>\n",
              "      <td>Central Pendam Government Senior Secondary School</td>\n",
              "      <td>PS</td>\n",
              "      <td>State Govt.</td>\n",
              "      <td>BUDANG</td>\n",
              "      <td>Gangtok</td>\n",
              "      <td>...</td>\n",
              "      <td>BUDANG GOVERNMENT PRIMARY SCHOOL (E)</td>\n",
              "      <td>Available</td>\n",
              "      <td>100</td>\n",
              "      <td>Available</td>\n",
              "      <td>2</td>\n",
              "      <td>Available</td>\n",
              "      <td>Available</td>\n",
              "      <td>1</td>\n",
              "      <td>Not Available</td>\n",
              "      <td>Not Available</td>\n",
              "    </tr>\n",
              "    <tr>\n",
              "      <th>1</th>\n",
              "      <td>1</td>\n",
              "      <td>East</td>\n",
              "      <td>S0099</td>\n",
              "      <td>CENTRAL PENDAM GOVERNMENT SENIOR SECONDARY SCHOOL</td>\n",
              "      <td>Duga Brc</td>\n",
              "      <td>Central Pendam Government Senior Secondary School</td>\n",
              "      <td>SSS</td>\n",
              "      <td>State Govt.</td>\n",
              "      <td>CENTRAL PENDAM</td>\n",
              "      <td>Gangtok</td>\n",
              "      <td>...</td>\n",
              "      <td>CENTRAL PENDAM GOVERNMENT SENIOR SECONDARY SCHOOL</td>\n",
              "      <td>Available</td>\n",
              "      <td>0</td>\n",
              "      <td>Available</td>\n",
              "      <td>5</td>\n",
              "      <td>Available</td>\n",
              "      <td>Available</td>\n",
              "      <td>2</td>\n",
              "      <td>Not Available</td>\n",
              "      <td>Available</td>\n",
              "    </tr>\n",
              "  </tbody>\n",
              "</table>\n",
              "<p>2 rows × 43 columns</p>\n",
              "</div>\n",
              "      <button class=\"colab-df-convert\" onclick=\"convertToInteractive('df-1e78fc16-d10a-4665-a716-8af675169cb9')\"\n",
              "              title=\"Convert this dataframe to an interactive table.\"\n",
              "              style=\"display:none;\">\n",
              "        \n",
              "  <svg xmlns=\"http://www.w3.org/2000/svg\" height=\"24px\"viewBox=\"0 0 24 24\"\n",
              "       width=\"24px\">\n",
              "    <path d=\"M0 0h24v24H0V0z\" fill=\"none\"/>\n",
              "    <path d=\"M18.56 5.44l.94 2.06.94-2.06 2.06-.94-2.06-.94-.94-2.06-.94 2.06-2.06.94zm-11 1L8.5 8.5l.94-2.06 2.06-.94-2.06-.94L8.5 2.5l-.94 2.06-2.06.94zm10 10l.94 2.06.94-2.06 2.06-.94-2.06-.94-.94-2.06-.94 2.06-2.06.94z\"/><path d=\"M17.41 7.96l-1.37-1.37c-.4-.4-.92-.59-1.43-.59-.52 0-1.04.2-1.43.59L10.3 9.45l-7.72 7.72c-.78.78-.78 2.05 0 2.83L4 21.41c.39.39.9.59 1.41.59.51 0 1.02-.2 1.41-.59l7.78-7.78 2.81-2.81c.8-.78.8-2.07 0-2.86zM5.41 20L4 18.59l7.72-7.72 1.47 1.35L5.41 20z\"/>\n",
              "  </svg>\n",
              "      </button>\n",
              "      \n",
              "  <style>\n",
              "    .colab-df-container {\n",
              "      display:flex;\n",
              "      flex-wrap:wrap;\n",
              "      gap: 12px;\n",
              "    }\n",
              "\n",
              "    .colab-df-convert {\n",
              "      background-color: #E8F0FE;\n",
              "      border: none;\n",
              "      border-radius: 50%;\n",
              "      cursor: pointer;\n",
              "      display: none;\n",
              "      fill: #1967D2;\n",
              "      height: 32px;\n",
              "      padding: 0 0 0 0;\n",
              "      width: 32px;\n",
              "    }\n",
              "\n",
              "    .colab-df-convert:hover {\n",
              "      background-color: #E2EBFA;\n",
              "      box-shadow: 0px 1px 2px rgba(60, 64, 67, 0.3), 0px 1px 3px 1px rgba(60, 64, 67, 0.15);\n",
              "      fill: #174EA6;\n",
              "    }\n",
              "\n",
              "    [theme=dark] .colab-df-convert {\n",
              "      background-color: #3B4455;\n",
              "      fill: #D2E3FC;\n",
              "    }\n",
              "\n",
              "    [theme=dark] .colab-df-convert:hover {\n",
              "      background-color: #434B5C;\n",
              "      box-shadow: 0px 1px 3px 1px rgba(0, 0, 0, 0.15);\n",
              "      filter: drop-shadow(0px 1px 2px rgba(0, 0, 0, 0.3));\n",
              "      fill: #FFFFFF;\n",
              "    }\n",
              "  </style>\n",
              "\n",
              "      <script>\n",
              "        const buttonEl =\n",
              "          document.querySelector('#df-1e78fc16-d10a-4665-a716-8af675169cb9 button.colab-df-convert');\n",
              "        buttonEl.style.display =\n",
              "          google.colab.kernel.accessAllowed ? 'block' : 'none';\n",
              "\n",
              "        async function convertToInteractive(key) {\n",
              "          const element = document.querySelector('#df-1e78fc16-d10a-4665-a716-8af675169cb9');\n",
              "          const dataTable =\n",
              "            await google.colab.kernel.invokeFunction('convertToInteractive',\n",
              "                                                     [key], {});\n",
              "          if (!dataTable) return;\n",
              "\n",
              "          const docLinkHtml = 'Like what you see? Visit the ' +\n",
              "            '<a target=\"_blank\" href=https://colab.research.google.com/notebooks/data_table.ipynb>data table notebook</a>'\n",
              "            + ' to learn more about interactive tables.';\n",
              "          element.innerHTML = '';\n",
              "          dataTable['output_type'] = 'display_data';\n",
              "          await google.colab.output.renderOutput(dataTable, element);\n",
              "          const docLink = document.createElement('div');\n",
              "          docLink.innerHTML = docLinkHtml;\n",
              "          element.appendChild(docLink);\n",
              "        }\n",
              "      </script>\n",
              "    </div>\n",
              "  </div>\n",
              "  "
            ]
          },
          "metadata": {},
          "execution_count": 19
        }
      ]
    },
    {
      "cell_type": "markdown",
      "metadata": {
        "id": "8HFsQfZLts0i"
      },
      "source": [
        "5. Now, select just the schools where the SchoolLevel is \"PS\" that do not have libraries."
      ]
    },
    {
      "cell_type": "code",
      "metadata": {
        "id": "kDXqMQjdw2fK",
        "colab": {
          "base_uri": "https://localhost:8080/",
          "height": 449
        },
        "outputId": "96e57f58-05bc-4fb9-e982-454b2fae4efa"
      },
      "source": [
        "# Write your SQL query in this string\n",
        "sql = \"\"\"\n",
        "SELECT d.EstablishmentName, d.SchoolLevel\n",
        "FROM school_details d INNER JOIN school_facility_details f\n",
        "ON f.EstablishmentCode = d.EstablishmentCode\n",
        "WHERE  d.SchoolLevel = \"PS\" and f.IsLibraryAvailable = \"Not Available\"\n",
        "\"\"\"\n",
        "\n",
        "# Read the sql query into pandas to view the results\n",
        "df = pd.read_sql_query(sql, engine)\n",
        "df.head()"
      ],
      "execution_count": 32,
      "outputs": [
        {
          "output_type": "stream",
          "name": "stdout",
          "text": [
            "2022-12-19 20:34:39,662 INFO sqlalchemy.engine.Engine \n",
            "SELECT d.EstablishmentName, d.SchoolLevel\n",
            "FROM school_details d INNER JOIN school_facility_details f\n",
            "ON f.EstablishmentCode = d.EstablishmentCode\n",
            "WHERE  d.SchoolLevel = \"PS\" and f.IsLibraryAvailable = \"Not Available\"\n",
            "\n"
          ]
        },
        {
          "output_type": "stream",
          "name": "stderr",
          "text": [
            "INFO:sqlalchemy.engine.Engine:\n",
            "SELECT d.EstablishmentName, d.SchoolLevel\n",
            "FROM school_details d INNER JOIN school_facility_details f\n",
            "ON f.EstablishmentCode = d.EstablishmentCode\n",
            "WHERE  d.SchoolLevel = \"PS\" and f.IsLibraryAvailable = \"Not Available\"\n",
            "\n"
          ]
        },
        {
          "output_type": "stream",
          "name": "stdout",
          "text": [
            "2022-12-19 20:34:39,669 INFO sqlalchemy.engine.Engine [raw sql] ()\n"
          ]
        },
        {
          "output_type": "stream",
          "name": "stderr",
          "text": [
            "INFO:sqlalchemy.engine.Engine:[raw sql] ()\n"
          ]
        },
        {
          "output_type": "execute_result",
          "data": {
            "text/plain": [
              "                        EstablishmentName SchoolLevel\n",
              "0        EASWARAMMA SAI GURUKOOL ACCADEMY          PS\n",
              "1     NEW GARDEN BOARDING SCHOOL (SAJONG)          PS\n",
              "2     SARASWATI SHISHU VIDHYALAYA, BUDANG          PS\n",
              "3        SAWNEY GOVERNMENT PRIMARY SCHOOL          PS\n",
              "4  UPPER PACHAK GOVERNMENT PRIMARY SCHOOL          PS"
            ],
            "text/html": [
              "\n",
              "  <div id=\"df-de31988d-2a7e-457f-b74a-538d83041184\">\n",
              "    <div class=\"colab-df-container\">\n",
              "      <div>\n",
              "<style scoped>\n",
              "    .dataframe tbody tr th:only-of-type {\n",
              "        vertical-align: middle;\n",
              "    }\n",
              "\n",
              "    .dataframe tbody tr th {\n",
              "        vertical-align: top;\n",
              "    }\n",
              "\n",
              "    .dataframe thead th {\n",
              "        text-align: right;\n",
              "    }\n",
              "</style>\n",
              "<table border=\"1\" class=\"dataframe\">\n",
              "  <thead>\n",
              "    <tr style=\"text-align: right;\">\n",
              "      <th></th>\n",
              "      <th>EstablishmentName</th>\n",
              "      <th>SchoolLevel</th>\n",
              "    </tr>\n",
              "  </thead>\n",
              "  <tbody>\n",
              "    <tr>\n",
              "      <th>0</th>\n",
              "      <td>EASWARAMMA SAI GURUKOOL ACCADEMY</td>\n",
              "      <td>PS</td>\n",
              "    </tr>\n",
              "    <tr>\n",
              "      <th>1</th>\n",
              "      <td>NEW GARDEN BOARDING SCHOOL (SAJONG)</td>\n",
              "      <td>PS</td>\n",
              "    </tr>\n",
              "    <tr>\n",
              "      <th>2</th>\n",
              "      <td>SARASWATI SHISHU VIDHYALAYA, BUDANG</td>\n",
              "      <td>PS</td>\n",
              "    </tr>\n",
              "    <tr>\n",
              "      <th>3</th>\n",
              "      <td>SAWNEY GOVERNMENT PRIMARY SCHOOL</td>\n",
              "      <td>PS</td>\n",
              "    </tr>\n",
              "    <tr>\n",
              "      <th>4</th>\n",
              "      <td>UPPER PACHAK GOVERNMENT PRIMARY SCHOOL</td>\n",
              "      <td>PS</td>\n",
              "    </tr>\n",
              "  </tbody>\n",
              "</table>\n",
              "</div>\n",
              "      <button class=\"colab-df-convert\" onclick=\"convertToInteractive('df-de31988d-2a7e-457f-b74a-538d83041184')\"\n",
              "              title=\"Convert this dataframe to an interactive table.\"\n",
              "              style=\"display:none;\">\n",
              "        \n",
              "  <svg xmlns=\"http://www.w3.org/2000/svg\" height=\"24px\"viewBox=\"0 0 24 24\"\n",
              "       width=\"24px\">\n",
              "    <path d=\"M0 0h24v24H0V0z\" fill=\"none\"/>\n",
              "    <path d=\"M18.56 5.44l.94 2.06.94-2.06 2.06-.94-2.06-.94-.94-2.06-.94 2.06-2.06.94zm-11 1L8.5 8.5l.94-2.06 2.06-.94-2.06-.94L8.5 2.5l-.94 2.06-2.06.94zm10 10l.94 2.06.94-2.06 2.06-.94-2.06-.94-.94-2.06-.94 2.06-2.06.94z\"/><path d=\"M17.41 7.96l-1.37-1.37c-.4-.4-.92-.59-1.43-.59-.52 0-1.04.2-1.43.59L10.3 9.45l-7.72 7.72c-.78.78-.78 2.05 0 2.83L4 21.41c.39.39.9.59 1.41.59.51 0 1.02-.2 1.41-.59l7.78-7.78 2.81-2.81c.8-.78.8-2.07 0-2.86zM5.41 20L4 18.59l7.72-7.72 1.47 1.35L5.41 20z\"/>\n",
              "  </svg>\n",
              "      </button>\n",
              "      \n",
              "  <style>\n",
              "    .colab-df-container {\n",
              "      display:flex;\n",
              "      flex-wrap:wrap;\n",
              "      gap: 12px;\n",
              "    }\n",
              "\n",
              "    .colab-df-convert {\n",
              "      background-color: #E8F0FE;\n",
              "      border: none;\n",
              "      border-radius: 50%;\n",
              "      cursor: pointer;\n",
              "      display: none;\n",
              "      fill: #1967D2;\n",
              "      height: 32px;\n",
              "      padding: 0 0 0 0;\n",
              "      width: 32px;\n",
              "    }\n",
              "\n",
              "    .colab-df-convert:hover {\n",
              "      background-color: #E2EBFA;\n",
              "      box-shadow: 0px 1px 2px rgba(60, 64, 67, 0.3), 0px 1px 3px 1px rgba(60, 64, 67, 0.15);\n",
              "      fill: #174EA6;\n",
              "    }\n",
              "\n",
              "    [theme=dark] .colab-df-convert {\n",
              "      background-color: #3B4455;\n",
              "      fill: #D2E3FC;\n",
              "    }\n",
              "\n",
              "    [theme=dark] .colab-df-convert:hover {\n",
              "      background-color: #434B5C;\n",
              "      box-shadow: 0px 1px 3px 1px rgba(0, 0, 0, 0.15);\n",
              "      filter: drop-shadow(0px 1px 2px rgba(0, 0, 0, 0.3));\n",
              "      fill: #FFFFFF;\n",
              "    }\n",
              "  </style>\n",
              "\n",
              "      <script>\n",
              "        const buttonEl =\n",
              "          document.querySelector('#df-de31988d-2a7e-457f-b74a-538d83041184 button.colab-df-convert');\n",
              "        buttonEl.style.display =\n",
              "          google.colab.kernel.accessAllowed ? 'block' : 'none';\n",
              "\n",
              "        async function convertToInteractive(key) {\n",
              "          const element = document.querySelector('#df-de31988d-2a7e-457f-b74a-538d83041184');\n",
              "          const dataTable =\n",
              "            await google.colab.kernel.invokeFunction('convertToInteractive',\n",
              "                                                     [key], {});\n",
              "          if (!dataTable) return;\n",
              "\n",
              "          const docLinkHtml = 'Like what you see? Visit the ' +\n",
              "            '<a target=\"_blank\" href=https://colab.research.google.com/notebooks/data_table.ipynb>data table notebook</a>'\n",
              "            + ' to learn more about interactive tables.';\n",
              "          element.innerHTML = '';\n",
              "          dataTable['output_type'] = 'display_data';\n",
              "          await google.colab.output.renderOutput(dataTable, element);\n",
              "          const docLink = document.createElement('div');\n",
              "          docLink.innerHTML = docLinkHtml;\n",
              "          element.appendChild(docLink);\n",
              "        }\n",
              "      </script>\n",
              "    </div>\n",
              "  </div>\n",
              "  "
            ]
          },
          "metadata": {},
          "execution_count": 32
        }
      ]
    },
    {
      "cell_type": "markdown",
      "metadata": {
        "id": "oEj7VseBw26j"
      },
      "source": [
        "6. Build off the previous query, but order the results alphabetically by name."
      ]
    },
    {
      "cell_type": "code",
      "metadata": {
        "id": "xw6SGQHQw4dS",
        "colab": {
          "base_uri": "https://localhost:8080/",
          "height": 484
        },
        "outputId": "113ba73b-ed9a-404c-d859-9ce6acc4502c"
      },
      "source": [
        "# Write your SQL query in this string\n",
        "sql = \"\"\"\n",
        "SELECT d.EstablishmentName, d.SchoolLevel\n",
        "FROM school_details d INNER JOIN school_facility_details f\n",
        "ON f.EstablishmentCode = d.EstablishmentCode\n",
        "WHERE  d.SchoolLevel = \"PS\" and f.IsLibraryAvailable = \"Not Available\"\n",
        "ORDER BY d.EstablishmentName;\n",
        "\"\"\"\n",
        "\n",
        "# Read the sql query into pandas to view the results\n",
        "df = pd.read_sql_query(sql, engine)\n",
        "df.head()"
      ],
      "execution_count": 36,
      "outputs": [
        {
          "output_type": "stream",
          "name": "stdout",
          "text": [
            "2022-12-19 20:36:39,069 INFO sqlalchemy.engine.Engine \n",
            "SELECT d.EstablishmentName, d.SchoolLevel\n",
            "FROM school_details d INNER JOIN school_facility_details f\n",
            "ON f.EstablishmentCode = d.EstablishmentCode\n",
            "WHERE  d.SchoolLevel = \"PS\" and f.IsLibraryAvailable = \"Not Available\"\n",
            "ORDER BY d.EstablishmentName;\n",
            "\n"
          ]
        },
        {
          "output_type": "stream",
          "name": "stderr",
          "text": [
            "INFO:sqlalchemy.engine.Engine:\n",
            "SELECT d.EstablishmentName, d.SchoolLevel\n",
            "FROM school_details d INNER JOIN school_facility_details f\n",
            "ON f.EstablishmentCode = d.EstablishmentCode\n",
            "WHERE  d.SchoolLevel = \"PS\" and f.IsLibraryAvailable = \"Not Available\"\n",
            "ORDER BY d.EstablishmentName;\n",
            "\n"
          ]
        },
        {
          "output_type": "stream",
          "name": "stdout",
          "text": [
            "2022-12-19 20:36:39,074 INFO sqlalchemy.engine.Engine [raw sql] ()\n"
          ]
        },
        {
          "output_type": "stream",
          "name": "stderr",
          "text": [
            "INFO:sqlalchemy.engine.Engine:[raw sql] ()\n"
          ]
        },
        {
          "output_type": "execute_result",
          "data": {
            "text/plain": [
              "                                   EstablishmentName SchoolLevel\n",
              "0  (I.E.C) INDIAN EVANGALISTIC CRUSADE MISSION PR...          PS\n",
              "1                10TH MILE GOVERNMENT PRIMARY SCHOOL          PS\n",
              "2                  AAPGAZI GOVERNMENT PRIMARY SCHOOL          PS\n",
              "3                AARUBOTEY GOVERNMENT PRIMARY SCHOOL          PS\n",
              "4              AHO-YANGTAM GOVERNMENT PRIMARY SCHOOL          PS"
            ],
            "text/html": [
              "\n",
              "  <div id=\"df-67e08e54-1950-47f6-b50a-38e90476cb74\">\n",
              "    <div class=\"colab-df-container\">\n",
              "      <div>\n",
              "<style scoped>\n",
              "    .dataframe tbody tr th:only-of-type {\n",
              "        vertical-align: middle;\n",
              "    }\n",
              "\n",
              "    .dataframe tbody tr th {\n",
              "        vertical-align: top;\n",
              "    }\n",
              "\n",
              "    .dataframe thead th {\n",
              "        text-align: right;\n",
              "    }\n",
              "</style>\n",
              "<table border=\"1\" class=\"dataframe\">\n",
              "  <thead>\n",
              "    <tr style=\"text-align: right;\">\n",
              "      <th></th>\n",
              "      <th>EstablishmentName</th>\n",
              "      <th>SchoolLevel</th>\n",
              "    </tr>\n",
              "  </thead>\n",
              "  <tbody>\n",
              "    <tr>\n",
              "      <th>0</th>\n",
              "      <td>(I.E.C) INDIAN EVANGALISTIC CRUSADE MISSION PR...</td>\n",
              "      <td>PS</td>\n",
              "    </tr>\n",
              "    <tr>\n",
              "      <th>1</th>\n",
              "      <td>10TH MILE GOVERNMENT PRIMARY SCHOOL</td>\n",
              "      <td>PS</td>\n",
              "    </tr>\n",
              "    <tr>\n",
              "      <th>2</th>\n",
              "      <td>AAPGAZI GOVERNMENT PRIMARY SCHOOL</td>\n",
              "      <td>PS</td>\n",
              "    </tr>\n",
              "    <tr>\n",
              "      <th>3</th>\n",
              "      <td>AARUBOTEY GOVERNMENT PRIMARY SCHOOL</td>\n",
              "      <td>PS</td>\n",
              "    </tr>\n",
              "    <tr>\n",
              "      <th>4</th>\n",
              "      <td>AHO-YANGTAM GOVERNMENT PRIMARY SCHOOL</td>\n",
              "      <td>PS</td>\n",
              "    </tr>\n",
              "  </tbody>\n",
              "</table>\n",
              "</div>\n",
              "      <button class=\"colab-df-convert\" onclick=\"convertToInteractive('df-67e08e54-1950-47f6-b50a-38e90476cb74')\"\n",
              "              title=\"Convert this dataframe to an interactive table.\"\n",
              "              style=\"display:none;\">\n",
              "        \n",
              "  <svg xmlns=\"http://www.w3.org/2000/svg\" height=\"24px\"viewBox=\"0 0 24 24\"\n",
              "       width=\"24px\">\n",
              "    <path d=\"M0 0h24v24H0V0z\" fill=\"none\"/>\n",
              "    <path d=\"M18.56 5.44l.94 2.06.94-2.06 2.06-.94-2.06-.94-.94-2.06-.94 2.06-2.06.94zm-11 1L8.5 8.5l.94-2.06 2.06-.94-2.06-.94L8.5 2.5l-.94 2.06-2.06.94zm10 10l.94 2.06.94-2.06 2.06-.94-2.06-.94-.94-2.06-.94 2.06-2.06.94z\"/><path d=\"M17.41 7.96l-1.37-1.37c-.4-.4-.92-.59-1.43-.59-.52 0-1.04.2-1.43.59L10.3 9.45l-7.72 7.72c-.78.78-.78 2.05 0 2.83L4 21.41c.39.39.9.59 1.41.59.51 0 1.02-.2 1.41-.59l7.78-7.78 2.81-2.81c.8-.78.8-2.07 0-2.86zM5.41 20L4 18.59l7.72-7.72 1.47 1.35L5.41 20z\"/>\n",
              "  </svg>\n",
              "      </button>\n",
              "      \n",
              "  <style>\n",
              "    .colab-df-container {\n",
              "      display:flex;\n",
              "      flex-wrap:wrap;\n",
              "      gap: 12px;\n",
              "    }\n",
              "\n",
              "    .colab-df-convert {\n",
              "      background-color: #E8F0FE;\n",
              "      border: none;\n",
              "      border-radius: 50%;\n",
              "      cursor: pointer;\n",
              "      display: none;\n",
              "      fill: #1967D2;\n",
              "      height: 32px;\n",
              "      padding: 0 0 0 0;\n",
              "      width: 32px;\n",
              "    }\n",
              "\n",
              "    .colab-df-convert:hover {\n",
              "      background-color: #E2EBFA;\n",
              "      box-shadow: 0px 1px 2px rgba(60, 64, 67, 0.3), 0px 1px 3px 1px rgba(60, 64, 67, 0.15);\n",
              "      fill: #174EA6;\n",
              "    }\n",
              "\n",
              "    [theme=dark] .colab-df-convert {\n",
              "      background-color: #3B4455;\n",
              "      fill: #D2E3FC;\n",
              "    }\n",
              "\n",
              "    [theme=dark] .colab-df-convert:hover {\n",
              "      background-color: #434B5C;\n",
              "      box-shadow: 0px 1px 3px 1px rgba(0, 0, 0, 0.15);\n",
              "      filter: drop-shadow(0px 1px 2px rgba(0, 0, 0, 0.3));\n",
              "      fill: #FFFFFF;\n",
              "    }\n",
              "  </style>\n",
              "\n",
              "      <script>\n",
              "        const buttonEl =\n",
              "          document.querySelector('#df-67e08e54-1950-47f6-b50a-38e90476cb74 button.colab-df-convert');\n",
              "        buttonEl.style.display =\n",
              "          google.colab.kernel.accessAllowed ? 'block' : 'none';\n",
              "\n",
              "        async function convertToInteractive(key) {\n",
              "          const element = document.querySelector('#df-67e08e54-1950-47f6-b50a-38e90476cb74');\n",
              "          const dataTable =\n",
              "            await google.colab.kernel.invokeFunction('convertToInteractive',\n",
              "                                                     [key], {});\n",
              "          if (!dataTable) return;\n",
              "\n",
              "          const docLinkHtml = 'Like what you see? Visit the ' +\n",
              "            '<a target=\"_blank\" href=https://colab.research.google.com/notebooks/data_table.ipynb>data table notebook</a>'\n",
              "            + ' to learn more about interactive tables.';\n",
              "          element.innerHTML = '';\n",
              "          dataTable['output_type'] = 'display_data';\n",
              "          await google.colab.output.renderOutput(dataTable, element);\n",
              "          const docLink = document.createElement('div');\n",
              "          docLink.innerHTML = docLinkHtml;\n",
              "          element.appendChild(docLink);\n",
              "        }\n",
              "      </script>\n",
              "    </div>\n",
              "  </div>\n",
              "  "
            ]
          },
          "metadata": {},
          "execution_count": 36
        }
      ]
    },
    {
      "cell_type": "code",
      "metadata": {
        "id": "a49BF5JpyUwT"
      },
      "source": [
        "# Close the database connection\n",
        "conn.close()"
      ],
      "execution_count": 37,
      "outputs": []
    },
    {
      "cell_type": "code",
      "metadata": {
        "id": "fRCEbeuR0SaH"
      },
      "source": [],
      "execution_count": null,
      "outputs": []
    }
  ]
}